{
 "cells": [
  {
   "cell_type": "code",
   "execution_count": 2,
   "id": "a780900e",
   "metadata": {},
   "outputs": [],
   "source": [
    "%matplotlib qt\n",
    "\n",
    "import matplotlib.pyplot as plt\n",
    "import networkx as nx\n",
    "import pandas as pd\n",
    "import numpy as np\n",
    "import json\n",
    "from sklearn import preprocessing\n",
    "from networkx.readwrite import json_graph"
   ]
  },
  {
   "cell_type": "code",
   "execution_count": 9,
   "id": "b75db46f",
   "metadata": {},
   "outputs": [
    {
     "data": {
      "text/plain": [
       "(True, True)"
      ]
     },
     "execution_count": 9,
     "metadata": {},
     "output_type": "execute_result"
    }
   ],
   "source": [
    "def read_json_file(filename):\n",
    "    with open(filename,  \"r\", encoding=\"utf8\") as f:\n",
    "        js_graph = json.load(f)\n",
    "    return json_graph.node_link_graph(js_graph, directed=False, multigraph=True), js_graph\n",
    "\n",
    "G,data = read_json_file(\"MC3/MC3.json\")\n",
    "G.is_directed(), G.is_multigraph()"
   ]
  },
  {
   "cell_type": "code",
   "execution_count": 10,
   "id": "30058733",
   "metadata": {},
   "outputs": [
    {
     "name": "stdout",
     "output_type": "stream",
     "text": [
      "False True\n"
     ]
    },
    {
     "data": {
      "text/plain": [
       "(24038, 52170)"
      ]
     },
     "execution_count": 10,
     "metadata": {},
     "output_type": "execute_result"
    }
   ],
   "source": [
    "G = G.to_undirected()\n",
    "\n",
    "print(G.is_directed(), G.is_multigraph())\n",
    "\n",
    "G.number_of_edges(), G.number_of_nodes()"
   ]
  },
  {
   "cell_type": "markdown",
   "id": "17145fc6",
   "metadata": {},
   "source": [
    "#### To Pandas DF "
   ]
  },
  {
   "cell_type": "code",
   "execution_count": 11,
   "id": "54dc0356",
   "metadata": {},
   "outputs": [],
   "source": [
    "def safe_convert(x):\n",
    "    try:\n",
    "        return x[0]\n",
    "    except:\n",
    "        return \"\""
   ]
  },
  {
   "cell_type": "code",
   "execution_count": null,
   "id": "5a605993",
   "metadata": {},
   "outputs": [],
   "source": []
  },
  {
   "cell_type": "code",
   "execution_count": 18,
   "id": "5d8026e9",
   "metadata": {},
   "outputs": [
    {
     "data": {
      "text/plain": [
       "(27622, 22929)"
      ]
     },
     "execution_count": 18,
     "metadata": {},
     "output_type": "execute_result"
    }
   ],
   "source": [
    "df = pd.DataFrame(data[\"nodes\"])\n",
    "\n",
    "df.id = df.id.apply(lambda x:x[0])\n",
    "df.country = df.country.apply(lambda x:x[0])\n",
    "df.product_services = df.product_services.apply(safe_convert)\n",
    "df.revenue_omu = df.revenue_omu.apply(safe_convert)\n",
    "df.type = df.type.apply(safe_convert)\n",
    "\n",
    "nodes = df.id.values.tolist()\n",
    "\n",
    "len(nodes), len(set(nodes))#counting without duplicate"
   ]
  },
  {
   "cell_type": "code",
   "execution_count": 19,
   "id": "0475d04c",
   "metadata": {},
   "outputs": [
    {
     "data": {
      "text/html": [
       "<div>\n",
       "<style scoped>\n",
       "    .dataframe tbody tr th:only-of-type {\n",
       "        vertical-align: middle;\n",
       "    }\n",
       "\n",
       "    .dataframe tbody tr th {\n",
       "        vertical-align: top;\n",
       "    }\n",
       "\n",
       "    .dataframe thead th {\n",
       "        text-align: right;\n",
       "    }\n",
       "</style>\n",
       "<table border=\"1\" class=\"dataframe\">\n",
       "  <thead>\n",
       "    <tr style=\"text-align: right;\">\n",
       "      <th></th>\n",
       "      <th>country</th>\n",
       "      <th>id</th>\n",
       "      <th>product_services</th>\n",
       "      <th>revenue_omu</th>\n",
       "      <th>type</th>\n",
       "    </tr>\n",
       "  </thead>\n",
       "  <tbody>\n",
       "    <tr>\n",
       "      <th>0</th>\n",
       "      <td>ZH</td>\n",
       "      <td>Jones LLC</td>\n",
       "      <td>Automobiles</td>\n",
       "      <td>310612303.447</td>\n",
       "      <td>Company</td>\n",
       "    </tr>\n",
       "    <tr>\n",
       "      <th>1</th>\n",
       "      <td>ZH</td>\n",
       "      <td>Coleman, Hall and Lopez</td>\n",
       "      <td>Passenger cars, trucks, vans, and buses</td>\n",
       "      <td>162734683.9969</td>\n",
       "      <td>Company</td>\n",
       "    </tr>\n",
       "    <tr>\n",
       "      <th>2</th>\n",
       "      <td>Oceanus</td>\n",
       "      <td>Aqua Advancements Sashimi SE Express</td>\n",
       "      <td>Holding firm whose subsidiaries are engaged in...</td>\n",
       "      <td>115004666.6728</td>\n",
       "      <td>Company</td>\n",
       "    </tr>\n",
       "    <tr>\n",
       "      <th>3</th>\n",
       "      <td>Utoporiana</td>\n",
       "      <td>Makumba Ltd. Liability Co</td>\n",
       "      <td>Car service, car parts and accessories, automo...</td>\n",
       "      <td>90986412.5191</td>\n",
       "      <td>Company</td>\n",
       "    </tr>\n",
       "    <tr>\n",
       "      <th>4</th>\n",
       "      <td>ZH</td>\n",
       "      <td>Taylor, Taylor and Farrell</td>\n",
       "      <td>Fully electric vehicles (EVs) and electric veh...</td>\n",
       "      <td>81466666.6728</td>\n",
       "      <td>Company</td>\n",
       "    </tr>\n",
       "    <tr>\n",
       "      <th>...</th>\n",
       "      <td>...</td>\n",
       "      <td>...</td>\n",
       "      <td>...</td>\n",
       "      <td>...</td>\n",
       "      <td>...</td>\n",
       "    </tr>\n",
       "    <tr>\n",
       "      <th>27617</th>\n",
       "      <td>ZH</td>\n",
       "      <td>Johnson, Lee and Rodriguez</td>\n",
       "      <td></td>\n",
       "      <td></td>\n",
       "      <td>Company Contacts</td>\n",
       "    </tr>\n",
       "    <tr>\n",
       "      <th>27618</th>\n",
       "      <td>ZH</td>\n",
       "      <td>Bowman, Rollins and Griffin</td>\n",
       "      <td></td>\n",
       "      <td></td>\n",
       "      <td>Company Contacts</td>\n",
       "    </tr>\n",
       "    <tr>\n",
       "      <th>27619</th>\n",
       "      <td>ZH</td>\n",
       "      <td>Hardin Group</td>\n",
       "      <td></td>\n",
       "      <td></td>\n",
       "      <td>Company Contacts</td>\n",
       "    </tr>\n",
       "    <tr>\n",
       "      <th>27620</th>\n",
       "      <td>ZH</td>\n",
       "      <td>Crane, Joyce and Jennings</td>\n",
       "      <td></td>\n",
       "      <td></td>\n",
       "      <td>Company Contacts</td>\n",
       "    </tr>\n",
       "    <tr>\n",
       "      <th>27621</th>\n",
       "      <td>ZH</td>\n",
       "      <td>Smith and Sons</td>\n",
       "      <td></td>\n",
       "      <td></td>\n",
       "      <td>Company Contacts</td>\n",
       "    </tr>\n",
       "  </tbody>\n",
       "</table>\n",
       "<p>27622 rows × 5 columns</p>\n",
       "</div>"
      ],
      "text/plain": [
       "          country                                    id  \\\n",
       "0              ZH                             Jones LLC   \n",
       "1              ZH               Coleman, Hall and Lopez   \n",
       "2         Oceanus  Aqua Advancements Sashimi SE Express   \n",
       "3      Utoporiana             Makumba Ltd. Liability Co   \n",
       "4              ZH            Taylor, Taylor and Farrell   \n",
       "...           ...                                   ...   \n",
       "27617          ZH            Johnson, Lee and Rodriguez   \n",
       "27618          ZH           Bowman, Rollins and Griffin   \n",
       "27619          ZH                          Hardin Group   \n",
       "27620          ZH             Crane, Joyce and Jennings   \n",
       "27621          ZH                        Smith and Sons   \n",
       "\n",
       "                                        product_services     revenue_omu  \\\n",
       "0                                            Automobiles   310612303.447   \n",
       "1                Passenger cars, trucks, vans, and buses  162734683.9969   \n",
       "2      Holding firm whose subsidiaries are engaged in...  115004666.6728   \n",
       "3      Car service, car parts and accessories, automo...   90986412.5191   \n",
       "4      Fully electric vehicles (EVs) and electric veh...   81466666.6728   \n",
       "...                                                  ...             ...   \n",
       "27617                                                                      \n",
       "27618                                                                      \n",
       "27619                                                                      \n",
       "27620                                                                      \n",
       "27621                                                                      \n",
       "\n",
       "                   type  \n",
       "0               Company  \n",
       "1               Company  \n",
       "2               Company  \n",
       "3               Company  \n",
       "4               Company  \n",
       "...                 ...  \n",
       "27617  Company Contacts  \n",
       "27618  Company Contacts  \n",
       "27619  Company Contacts  \n",
       "27620  Company Contacts  \n",
       "27621  Company Contacts  \n",
       "\n",
       "[27622 rows x 5 columns]"
      ]
     },
     "execution_count": 19,
     "metadata": {},
     "output_type": "execute_result"
    }
   ],
   "source": [
    "df"
   ]
  },
  {
   "cell_type": "code",
   "execution_count": 21,
   "id": "bbe87bf3",
   "metadata": {},
   "outputs": [
    {
     "data": {
      "text/plain": [
       "(48076, 34062)"
      ]
     },
     "execution_count": 21,
     "metadata": {},
     "output_type": "execute_result"
    }
   ],
   "source": [
    "df1 = pd.DataFrame(data[\"links\"])\n",
    "\n",
    "df1.source = df1.source.apply(lambda x: x[0])\n",
    "df1.target = df1.target.apply(lambda x: x[0])\n",
    "df1.type = df1.type.apply(lambda x: x[0])\n",
    "\n",
    "##all nodes from source and target\n",
    "nodes_edges = df1.source.values.tolist() + df1.target.values.tolist()\n",
    "\n",
    "len(nodes_edges), len(set(nodes_edges))#counting without duplicate"
   ]
  },
  {
   "cell_type": "code",
   "execution_count": 22,
   "id": "bf2b0ec8",
   "metadata": {},
   "outputs": [
    {
     "data": {
      "text/html": [
       "<div>\n",
       "<style scoped>\n",
       "    .dataframe tbody tr th:only-of-type {\n",
       "        vertical-align: middle;\n",
       "    }\n",
       "\n",
       "    .dataframe tbody tr th {\n",
       "        vertical-align: top;\n",
       "    }\n",
       "\n",
       "    .dataframe thead th {\n",
       "        text-align: right;\n",
       "    }\n",
       "</style>\n",
       "<table border=\"1\" class=\"dataframe\">\n",
       "  <thead>\n",
       "    <tr style=\"text-align: right;\">\n",
       "      <th></th>\n",
       "      <th>source</th>\n",
       "      <th>target</th>\n",
       "      <th>type</th>\n",
       "    </tr>\n",
       "  </thead>\n",
       "  <tbody>\n",
       "    <tr>\n",
       "      <th>0</th>\n",
       "      <td>Lake Chad  Catchers Limited Liability Company ...</td>\n",
       "      <td>Erin Flores</td>\n",
       "      <td>Beneficial Owner</td>\n",
       "    </tr>\n",
       "    <tr>\n",
       "      <th>1</th>\n",
       "      <td>Lake Chad  Catchers Limited Liability Company ...</td>\n",
       "      <td>Linda Lee</td>\n",
       "      <td>Beneficial Owner</td>\n",
       "    </tr>\n",
       "    <tr>\n",
       "      <th>2</th>\n",
       "      <td>Lake Chad  Catchers Limited Liability Company ...</td>\n",
       "      <td>Sharon Coleman</td>\n",
       "      <td>Beneficial Owner</td>\n",
       "    </tr>\n",
       "    <tr>\n",
       "      <th>3</th>\n",
       "      <td>Lake Chad  Catchers Limited Liability Company ...</td>\n",
       "      <td>John Rivera</td>\n",
       "      <td>Beneficial Owner</td>\n",
       "    </tr>\n",
       "    <tr>\n",
       "      <th>4</th>\n",
       "      <td>Lake Chad  Catchers Limited Liability Company ...</td>\n",
       "      <td>Stephen Carpenter</td>\n",
       "      <td>Beneficial Owner</td>\n",
       "    </tr>\n",
       "    <tr>\n",
       "      <th>...</th>\n",
       "      <td>...</td>\n",
       "      <td>...</td>\n",
       "      <td>...</td>\n",
       "    </tr>\n",
       "    <tr>\n",
       "      <th>24033</th>\n",
       "      <td>Martinez-Diaz</td>\n",
       "      <td>Mark Thomas</td>\n",
       "      <td>Company Contacts</td>\n",
       "    </tr>\n",
       "    <tr>\n",
       "      <th>24034</th>\n",
       "      <td>Garcia Inc</td>\n",
       "      <td>Christopher Wagner</td>\n",
       "      <td>Company Contacts</td>\n",
       "    </tr>\n",
       "    <tr>\n",
       "      <th>24035</th>\n",
       "      <td>Potter, Williams and Peters</td>\n",
       "      <td>Mr. Troy Shields</td>\n",
       "      <td>Company Contacts</td>\n",
       "    </tr>\n",
       "    <tr>\n",
       "      <th>24036</th>\n",
       "      <td>Tucker-Willis</td>\n",
       "      <td>Robert James</td>\n",
       "      <td>Company Contacts</td>\n",
       "    </tr>\n",
       "    <tr>\n",
       "      <th>24037</th>\n",
       "      <td>Sanchez, Welch and Harvey</td>\n",
       "      <td>Kimberly Flores</td>\n",
       "      <td>Company Contacts</td>\n",
       "    </tr>\n",
       "  </tbody>\n",
       "</table>\n",
       "<p>24038 rows × 3 columns</p>\n",
       "</div>"
      ],
      "text/plain": [
       "                                                  source              target  \\\n",
       "0      Lake Chad  Catchers Limited Liability Company ...         Erin Flores   \n",
       "1      Lake Chad  Catchers Limited Liability Company ...           Linda Lee   \n",
       "2      Lake Chad  Catchers Limited Liability Company ...      Sharon Coleman   \n",
       "3      Lake Chad  Catchers Limited Liability Company ...         John Rivera   \n",
       "4      Lake Chad  Catchers Limited Liability Company ...   Stephen Carpenter   \n",
       "...                                                  ...                 ...   \n",
       "24033                                      Martinez-Diaz         Mark Thomas   \n",
       "24034                                         Garcia Inc  Christopher Wagner   \n",
       "24035                        Potter, Williams and Peters    Mr. Troy Shields   \n",
       "24036                                      Tucker-Willis        Robert James   \n",
       "24037                          Sanchez, Welch and Harvey     Kimberly Flores   \n",
       "\n",
       "                   type  \n",
       "0      Beneficial Owner  \n",
       "1      Beneficial Owner  \n",
       "2      Beneficial Owner  \n",
       "3      Beneficial Owner  \n",
       "4      Beneficial Owner  \n",
       "...                 ...  \n",
       "24033  Company Contacts  \n",
       "24034  Company Contacts  \n",
       "24035  Company Contacts  \n",
       "24036  Company Contacts  \n",
       "24037  Company Contacts  \n",
       "\n",
       "[24038 rows x 3 columns]"
      ]
     },
     "execution_count": 22,
     "metadata": {},
     "output_type": "execute_result"
    }
   ],
   "source": [
    "df1"
   ]
  },
  {
   "cell_type": "code",
   "execution_count": null,
   "id": "95165078",
   "metadata": {},
   "outputs": [],
   "source": []
  },
  {
   "cell_type": "markdown",
   "id": "86c5d03d",
   "metadata": {},
   "source": [
    "#### Analysis of Connected Components"
   ]
  },
  {
   "cell_type": "code",
   "execution_count": 57,
   "id": "e7182b80",
   "metadata": {},
   "outputs": [],
   "source": [
    "%matplotlib inline\n",
    "#para ver aca"
   ]
  },
  {
   "cell_type": "code",
   "execution_count": 45,
   "id": "492e65fb",
   "metadata": {},
   "outputs": [],
   "source": [
    "import nxviz as nv"
   ]
  },
  {
   "cell_type": "code",
   "execution_count": 23,
   "id": "d29b3ccc",
   "metadata": {},
   "outputs": [
    {
     "data": {
      "text/plain": [
       "28176"
      ]
     },
     "execution_count": 23,
     "metadata": {},
     "output_type": "execute_result"
    }
   ],
   "source": [
    "nx.number_connected_components(G)"
   ]
  },
  {
   "cell_type": "code",
   "execution_count": 49,
   "id": "3b1282bd",
   "metadata": {},
   "outputs": [],
   "source": [
    "connected_components = [c for c in sorted(nx.connected_components(G), key=len, reverse=True)]"
   ]
  },
  {
   "cell_type": "code",
   "execution_count": 50,
   "id": "3d8c829c",
   "metadata": {},
   "outputs": [],
   "source": [
    "S = [G.subgraph(c).copy() for c in sorted(nx.connected_components(G), key=len, reverse=True)] ##subgraphs for each component"
   ]
  },
  {
   "cell_type": "code",
   "execution_count": null,
   "id": "16555478",
   "metadata": {},
   "outputs": [],
   "source": []
  },
  {
   "cell_type": "code",
   "execution_count": 58,
   "id": "8daf1a46",
   "metadata": {},
   "outputs": [
    {
     "data": {
      "image/png": "[encoded data removed]",
      "text/plain": [
       "<Figure size 432x288 with 1 Axes>"
      ]
     },
     "metadata": {
      "needs_background": "light"
     },
     "output_type": "display_data"
    }
   ],
   "source": [
    "fig, ax = plt.subplots()\n",
    "ax = nv.circos(\n",
    "    S[1]\n",
    ")"
   ]
  },
  {
   "cell_type": "code",
   "execution_count": null,
   "id": "9b8a862d",
   "metadata": {},
   "outputs": [],
   "source": []
  },
  {
   "cell_type": "code",
   "execution_count": null,
   "id": "e720e8d6",
   "metadata": {},
   "outputs": [],
   "source": []
  },
  {
   "cell_type": "code",
   "execution_count": null,
   "id": "7fff0b32",
   "metadata": {},
   "outputs": [],
   "source": []
  },
  {
   "cell_type": "code",
   "execution_count": null,
   "id": "075d6aec",
   "metadata": {},
   "outputs": [],
   "source": []
  }
 ],
 "metadata": {
  "kernelspec": {
   "display_name": "Python 3 (ipykernel)",
   "language": "python",
   "name": "python3"
  },
  "language_info": {
   "codemirror_mode": {
    "name": "ipython",
    "version": 3
   },
   "file_extension": ".py",
   "mimetype": "text/x-python",
   "name": "python",
   "nbconvert_exporter": "python",
   "pygments_lexer": "ipython3",
   "version": "3.9.12"
  }
 },
 "nbformat": 4,
 "nbformat_minor": 5
}
