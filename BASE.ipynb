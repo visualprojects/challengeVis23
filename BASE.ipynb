{
 "cells": [
  {
   "cell_type": "code",
   "execution_count": 1,
   "id": "3fa80df3-7b95-460a-bf33-287ee5ed504e",
   "metadata": {},
   "outputs": [],
   "source": [
    "%matplotlib qt"
   ]
  },
  {
   "cell_type": "code",
   "execution_count": 2,
   "id": "138afb35-1196-406e-a992-2b1af5d947c9",
   "metadata": {},
   "outputs": [],
   "source": [
    "import matplotlib.pyplot as plt\n",
    "import networkx as nx\n",
    "import pandas as pd\n",
    "import numpy as np\n",
    "import json\n",
    "from sklearn import preprocessing\n",
    "from networkx.readwrite import json_graph"
   ]
  },
  {
   "cell_type": "code",
   "execution_count": 46,
   "id": "922d6231",
   "metadata": {},
   "outputs": [],
   "source": [
    "def read_json_file(filename):\n",
    "    with open(filename,  \"r\", encoding=\"utf8\") as f:\n",
    "        js_graph = json.load(f)\n",
    "    return json_graph.node_link_graph(js_graph, directed=False, multigraph=True)"
   ]
  },
  {
   "cell_type": "code",
   "execution_count": 47,
   "id": "092f61f1",
   "metadata": {},
   "outputs": [],
   "source": [
    "G = read_json_file(\"MC3/MC3.json\")"
   ]
  },
  {
   "cell_type": "code",
   "execution_count": 48,
   "id": "2f2c78ff",
   "metadata": {},
   "outputs": [
    {
     "data": {
      "text/plain": [
       "(True, True)"
      ]
     },
     "execution_count": 48,
     "metadata": {},
     "output_type": "execute_result"
    }
   ],
   "source": [
    "G.is_directed(), G.is_multigraph()"
   ]
  },
  {
   "cell_type": "code",
   "execution_count": 49,
   "id": "ca903608",
   "metadata": {},
   "outputs": [],
   "source": [
    "G = G.to_undirected()"
   ]
  },
  {
   "cell_type": "code",
   "execution_count": 50,
   "id": "fad4a635",
   "metadata": {},
   "outputs": [
    {
     "data": {
      "text/plain": [
       "(False, True)"
      ]
     },
     "execution_count": 50,
     "metadata": {},
     "output_type": "execute_result"
    }
   ],
   "source": [
    "G.is_directed(), G.is_multigraph()"
   ]
  },
  {
   "cell_type": "code",
   "execution_count": 51,
   "id": "9e958c2c",
   "metadata": {},
   "outputs": [
    {
     "data": {
      "text/plain": [
       "(24038, 52170)"
      ]
     },
     "execution_count": 51,
     "metadata": {},
     "output_type": "execute_result"
    }
   ],
   "source": [
    "G.number_of_edges(), G.number_of_nodes()"
   ]
  },
  {
   "cell_type": "code",
   "execution_count": null,
   "id": "a1fb413c",
   "metadata": {},
   "outputs": [],
   "source": []
  },
  {
   "cell_type": "code",
   "execution_count": null,
   "id": "62540b80",
   "metadata": {},
   "outputs": [],
   "source": []
  },
  {
   "cell_type": "markdown",
   "id": "6eb13bb2",
   "metadata": {},
   "source": [
    "### ISSUE #1"
   ]
  },
  {
   "cell_type": "code",
   "execution_count": 10,
   "id": "0a283765-230d-4d85-a857-ca078783219b",
   "metadata": {},
   "outputs": [],
   "source": [
    "with open(\"MC3/MC3.json\", \"r\", encoding=\"utf8\") as f:\n",
    "    data = json.load(f)\n",
    "\n",
    "# Create a NetworkX graph\n",
    "G = nx.MultiGraph()\n",
    "\n",
    "# Add nodes to the graph\n",
    "for i, node in enumerate(data['nodes']):\n",
    "    node_id = node['id'][0]\n",
    "    country = node['country'][0]\n",
    "    #product_services = node[\"product_services\"][0]\n",
    "    #revenue_omu = node[\"revenue_omu\"][0]\n",
    "    G.add_node(node_id, ntype=node[\"type\"][0])\n",
    "\n",
    "    \n",
    "# Add edges to the graph\n",
    "for edge in data['links']:\n",
    "    source = edge['source'][0]\n",
    "    target = edge['target'][0]\n",
    "    G.add_edge(source,target)"
   ]
  },
  {
   "cell_type": "code",
   "execution_count": 11,
   "id": "27f8dd82",
   "metadata": {},
   "outputs": [
    {
     "data": {
      "text/plain": [
       "(False, True)"
      ]
     },
     "execution_count": 11,
     "metadata": {},
     "output_type": "execute_result"
    }
   ],
   "source": [
    "G.is_directed(),G.is_multigraph()"
   ]
  },
  {
   "cell_type": "code",
   "execution_count": 12,
   "id": "17162786",
   "metadata": {},
   "outputs": [
    {
     "data": {
      "text/plain": [
       "(False, True)"
      ]
     },
     "execution_count": 12,
     "metadata": {},
     "output_type": "execute_result"
    }
   ],
   "source": [
    "G.is_directed(),G.is_multigraph()\n",
    "G.is_directed(),G.is_multigraph()"
   ]
  },
  {
   "cell_type": "code",
   "execution_count": 13,
   "id": "1eb193b4",
   "metadata": {},
   "outputs": [
    {
     "data": {
      "text/plain": [
       "(24038, 51375)"
      ]
     },
     "execution_count": 13,
     "metadata": {},
     "output_type": "execute_result"
    }
   ],
   "source": [
    "G.number_of_edges(), G.number_of_nodes()"
   ]
  },
  {
   "cell_type": "code",
   "execution_count": null,
   "id": "92dee903",
   "metadata": {},
   "outputs": [],
   "source": []
  },
  {
   "cell_type": "code",
   "execution_count": 14,
   "id": "46addf6a",
   "metadata": {},
   "outputs": [
    {
     "data": {
      "text/plain": [
       "27384"
      ]
     },
     "execution_count": 14,
     "metadata": {},
     "output_type": "execute_result"
    }
   ],
   "source": [
    "nx.number_connected_components(G)"
   ]
  },
  {
   "cell_type": "code",
   "execution_count": 15,
   "id": "8fc6c256",
   "metadata": {},
   "outputs": [
    {
     "data": {
      "text/plain": [
       "27622"
      ]
     },
     "execution_count": 15,
     "metadata": {},
     "output_type": "execute_result"
    }
   ],
   "source": [
    "len(data[\"nodes\"])"
   ]
  },
  {
   "cell_type": "code",
   "execution_count": null,
   "id": "d0bec613",
   "metadata": {},
   "outputs": [],
   "source": []
  },
  {
   "cell_type": "markdown",
   "id": "506d85a2",
   "metadata": {},
   "source": [
    "#### another way to load file using only links info"
   ]
  },
  {
   "cell_type": "code",
   "execution_count": 16,
   "id": "d858fb2c",
   "metadata": {},
   "outputs": [],
   "source": [
    "edges2 = list(map(lambda x: (x[\"source\"][0], x[\"target\"][0]), data[\"links\"]))"
   ]
  },
  {
   "cell_type": "code",
   "execution_count": 17,
   "id": "315f8d1c",
   "metadata": {},
   "outputs": [],
   "source": [
    "G = nx.MultiGraph(edges2)"
   ]
  },
  {
   "cell_type": "code",
   "execution_count": 18,
   "id": "0e34cbbe",
   "metadata": {},
   "outputs": [
    {
     "data": {
      "text/plain": [
       "(24038, 34062)"
      ]
     },
     "execution_count": 18,
     "metadata": {},
     "output_type": "execute_result"
    }
   ],
   "source": [
    "G.number_of_edges(), G.number_of_nodes()"
   ]
  },
  {
   "cell_type": "code",
   "execution_count": 19,
   "id": "9482b8bc",
   "metadata": {},
   "outputs": [
    {
     "data": {
      "text/plain": [
       "10071"
      ]
     },
     "execution_count": 19,
     "metadata": {},
     "output_type": "execute_result"
    }
   ],
   "source": [
    "nx.number_connected_components(G)"
   ]
  },
  {
   "cell_type": "code",
   "execution_count": null,
   "id": "62206e5d",
   "metadata": {},
   "outputs": [],
   "source": []
  },
  {
   "cell_type": "code",
   "execution_count": 19,
   "id": "60373fa3",
   "metadata": {},
   "outputs": [],
   "source": [
    "count = 0\n",
    "for node in data[\"nodes\"]:\n",
    "    node = node[\"id\"][0]\n",
    "    try:\n",
    "        nx.node_connected_component(G, node)\n",
    "        count+=1\n",
    "    except KeyError:\n",
    "        pass"
   ]
  },
  {
   "cell_type": "code",
   "execution_count": null,
   "id": "c9e095e3-2568-4225-9bf5-41437eb62dce",
   "metadata": {},
   "outputs": [],
   "source": []
  },
  {
   "cell_type": "code",
   "execution_count": 20,
   "id": "104b9ec0",
   "metadata": {},
   "outputs": [],
   "source": [
    "connected_components = [c for c in sorted(nx.connected_components(G), key=len, reverse=False)]"
   ]
  },
  {
   "cell_type": "code",
   "execution_count": 22,
   "id": "7f416601",
   "metadata": {},
   "outputs": [],
   "source": [
    "#len(list(filter(lambda x: len(x)>2, connected_components)))"
   ]
  },
  {
   "cell_type": "markdown",
   "id": "7179e00d-6e38-48e9-80a1-5c65f8dc7505",
   "metadata": {},
   "source": [
    "#### Para ver que hay nodos duplicados"
   ]
  },
  {
   "cell_type": "code",
   "execution_count": 30,
   "id": "e922f68a",
   "metadata": {},
   "outputs": [],
   "source": [
    "def safe_convert(x):\n",
    "    try:\n",
    "        return x[0]\n",
    "    except:\n",
    "        return \"\""
   ]
  },
  {
   "cell_type": "code",
   "execution_count": null,
   "id": "bc6c5b6c",
   "metadata": {},
   "outputs": [],
   "source": []
  },
  {
   "cell_type": "code",
   "execution_count": 31,
   "id": "5773c6a7-20cc-441f-b6a9-0fafe4113b25",
   "metadata": {},
   "outputs": [
    {
     "ename": "AttributeError",
     "evalue": "'DataFrame' object has no attribute 'role'",
     "output_type": "error",
     "traceback": [
      "\u001b[1;31m---------------------------------------------------------------------------\u001b[0m",
      "\u001b[1;31mAttributeError\u001b[0m                            Traceback (most recent call last)",
      "Input \u001b[1;32mIn [31]\u001b[0m, in \u001b[0;36m<cell line: 7>\u001b[1;34m()\u001b[0m\n\u001b[0;32m      5\u001b[0m df\u001b[38;5;241m.\u001b[39mproduct_services \u001b[38;5;241m=\u001b[39m df\u001b[38;5;241m.\u001b[39mproduct_services\u001b[38;5;241m.\u001b[39mapply(safe_convert)\n\u001b[0;32m      6\u001b[0m df\u001b[38;5;241m.\u001b[39mrevenue_omu \u001b[38;5;241m=\u001b[39m df\u001b[38;5;241m.\u001b[39mrevenue_omu\u001b[38;5;241m.\u001b[39mapply(safe_convert)\n\u001b[1;32m----> 7\u001b[0m df\u001b[38;5;241m.\u001b[39mrole \u001b[38;5;241m=\u001b[39m \u001b[43mdf\u001b[49m\u001b[38;5;241;43m.\u001b[39;49m\u001b[43mrole\u001b[49m\u001b[38;5;241m.\u001b[39mapply(safe_convert)\n\u001b[0;32m      8\u001b[0m df\u001b[38;5;241m.\u001b[39mtype \u001b[38;5;241m=\u001b[39m df\u001b[38;5;241m.\u001b[39mtype\u001b[38;5;241m.\u001b[39mapply(\u001b[38;5;28;01mlambda\u001b[39;00m x:x[\u001b[38;5;241m0\u001b[39m])\n",
      "File \u001b[1;32m~\\anaconda3\\lib\\site-packages\\pandas\\core\\generic.py:5575\u001b[0m, in \u001b[0;36mNDFrame.__getattr__\u001b[1;34m(self, name)\u001b[0m\n\u001b[0;32m   5568\u001b[0m \u001b[38;5;28;01mif\u001b[39;00m (\n\u001b[0;32m   5569\u001b[0m     name \u001b[38;5;129;01mnot\u001b[39;00m \u001b[38;5;129;01min\u001b[39;00m \u001b[38;5;28mself\u001b[39m\u001b[38;5;241m.\u001b[39m_internal_names_set\n\u001b[0;32m   5570\u001b[0m     \u001b[38;5;129;01mand\u001b[39;00m name \u001b[38;5;129;01mnot\u001b[39;00m \u001b[38;5;129;01min\u001b[39;00m \u001b[38;5;28mself\u001b[39m\u001b[38;5;241m.\u001b[39m_metadata\n\u001b[0;32m   5571\u001b[0m     \u001b[38;5;129;01mand\u001b[39;00m name \u001b[38;5;129;01mnot\u001b[39;00m \u001b[38;5;129;01min\u001b[39;00m \u001b[38;5;28mself\u001b[39m\u001b[38;5;241m.\u001b[39m_accessors\n\u001b[0;32m   5572\u001b[0m     \u001b[38;5;129;01mand\u001b[39;00m \u001b[38;5;28mself\u001b[39m\u001b[38;5;241m.\u001b[39m_info_axis\u001b[38;5;241m.\u001b[39m_can_hold_identifiers_and_holds_name(name)\n\u001b[0;32m   5573\u001b[0m ):\n\u001b[0;32m   5574\u001b[0m     \u001b[38;5;28;01mreturn\u001b[39;00m \u001b[38;5;28mself\u001b[39m[name]\n\u001b[1;32m-> 5575\u001b[0m \u001b[38;5;28;01mreturn\u001b[39;00m \u001b[38;5;28;43mobject\u001b[39;49m\u001b[38;5;241;43m.\u001b[39;49m\u001b[38;5;21;43m__getattribute__\u001b[39;49m\u001b[43m(\u001b[49m\u001b[38;5;28;43mself\u001b[39;49m\u001b[43m,\u001b[49m\u001b[43m \u001b[49m\u001b[43mname\u001b[49m\u001b[43m)\u001b[49m\n",
      "\u001b[1;31mAttributeError\u001b[0m: 'DataFrame' object has no attribute 'role'"
     ]
    }
   ],
   "source": [
    "df = pd.DataFrame(data[\"nodes\"])\n",
    "\n",
    "df.id = df.id.apply(lambda x:x[0])\n",
    "df.country = df.country.apply(lambda x:x[0])\n",
    "df.product_services = df.product_services.apply(safe_convert)\n",
    "df.revenue_omu = df.revenue_omu.apply(safe_convert)\n",
    "df.role = df.role.apply(safe_convert)\n",
    "df.type = df.type.apply(lambda x:x[0])"
   ]
  },
  {
   "cell_type": "code",
   "execution_count": 23,
   "id": "670d851c",
   "metadata": {},
   "outputs": [],
   "source": [
    "nodes = df.id.values.tolist()"
   ]
  },
  {
   "cell_type": "code",
   "execution_count": 24,
   "id": "d70af449",
   "metadata": {},
   "outputs": [
    {
     "data": {
      "text/plain": [
       "(27622, 22929)"
      ]
     },
     "execution_count": 24,
     "metadata": {},
     "output_type": "execute_result"
    }
   ],
   "source": [
    "len(nodes), len(set(nodes))#counting without duplicate"
   ]
  },
  {
   "cell_type": "code",
   "execution_count": null,
   "id": "17da23ef-73c9-41e7-9ad9-71e3cbcf15b7",
   "metadata": {},
   "outputs": [],
   "source": []
  },
  {
   "cell_type": "code",
   "execution_count": 25,
   "id": "5648568c-5c52-43c3-b327-94a0970a87b4",
   "metadata": {},
   "outputs": [],
   "source": [
    "df1 = pd.DataFrame(data[\"links\"])\n",
    "\n",
    "df1.source = df1.source.apply(lambda x: x[0])\n",
    "df1.target = df1.target.apply(lambda x: x[0])\n",
    "df1.type = df1.type.apply(lambda x: x[0])"
   ]
  },
  {
   "cell_type": "code",
   "execution_count": 26,
   "id": "68048a48-e2cb-4f87-9c25-1585cbafc3dc",
   "metadata": {},
   "outputs": [],
   "source": [
    "##all nodes from source and target\n",
    "nodes_edges = df1.source.values.tolist() + df1.target.values.tolist()"
   ]
  },
  {
   "cell_type": "code",
   "execution_count": 27,
   "id": "81d9215e",
   "metadata": {},
   "outputs": [
    {
     "data": {
      "text/plain": [
       "(48076, 34062)"
      ]
     },
     "execution_count": 27,
     "metadata": {},
     "output_type": "execute_result"
    }
   ],
   "source": [
    "len(nodes_edges), len(set(nodes_edges))#counting without duplicate"
   ]
  },
  {
   "cell_type": "code",
   "execution_count": null,
   "id": "66547dd0",
   "metadata": {},
   "outputs": [],
   "source": []
  },
  {
   "cell_type": "code",
   "execution_count": null,
   "id": "9819b68c",
   "metadata": {},
   "outputs": [],
   "source": []
  },
  {
   "cell_type": "code",
   "execution_count": 153,
   "id": "656ebe21-6014-44e5-9f07-3f7c08e37e21",
   "metadata": {},
   "outputs": [],
   "source": [
    "#how many nodes defined by links are not in the nodes section\n",
    "count = 0\n",
    "for i in set(nodes_edges):\n",
    "    if i not in nodes:\n",
    "        count+=1"
   ]
  },
  {
   "cell_type": "code",
   "execution_count": 154,
   "id": "0f7126b6",
   "metadata": {},
   "outputs": [
    {
     "data": {
      "text/plain": [
       "'#nodes defined by the links specified in the nodes section:5616'"
      ]
     },
     "execution_count": 154,
     "metadata": {},
     "output_type": "execute_result"
    }
   ],
   "source": [
    "\"#nodes defined by the links specified in the nodes section:{}\".format(len(set(nodes_edges)) - count)"
   ]
  },
  {
   "cell_type": "code",
   "execution_count": 155,
   "id": "56787da7",
   "metadata": {},
   "outputs": [
    {
     "data": {
      "text/plain": [
       "'#nodes defined by the links not specified in the nodes section:28446'"
      ]
     },
     "execution_count": 155,
     "metadata": {},
     "output_type": "execute_result"
    }
   ],
   "source": [
    "\"#nodes defined by the links not specified in the nodes section:{}\".format(count)"
   ]
  },
  {
   "cell_type": "code",
   "execution_count": null,
   "id": "14d95abf",
   "metadata": {},
   "outputs": [],
   "source": []
  },
  {
   "cell_type": "code",
   "execution_count": null,
   "id": "3078681f",
   "metadata": {},
   "outputs": [],
   "source": []
  },
  {
   "cell_type": "code",
   "execution_count": 156,
   "id": "06aef99b",
   "metadata": {},
   "outputs": [],
   "source": [
    "count = 0\n",
    "for j in set(nodes):\n",
    "    if j in nodes_edges:\n",
    "        count+=1"
   ]
  },
  {
   "cell_type": "code",
   "execution_count": 157,
   "id": "1f347769",
   "metadata": {},
   "outputs": [
    {
     "data": {
      "text/plain": [
       "5616"
      ]
     },
     "execution_count": 157,
     "metadata": {},
     "output_type": "execute_result"
    }
   ],
   "source": [
    "count"
   ]
  },
  {
   "cell_type": "code",
   "execution_count": 158,
   "id": "08b0ce84",
   "metadata": {},
   "outputs": [
    {
     "data": {
      "text/plain": [
       "'#nodes that are in the links section.:5616'"
      ]
     },
     "execution_count": 158,
     "metadata": {},
     "output_type": "execute_result"
    }
   ],
   "source": [
    "\"#nodes that are in the links section.:{}\".format(count)"
   ]
  },
  {
   "cell_type": "code",
   "execution_count": 159,
   "id": "26557577",
   "metadata": {},
   "outputs": [
    {
     "data": {
      "text/plain": [
       "'#nodes that are not in the links section.:17313'"
      ]
     },
     "execution_count": 159,
     "metadata": {},
     "output_type": "execute_result"
    }
   ],
   "source": [
    "\"#nodes that are not in the links section.:{}\".format(len(set(nodes))-count)"
   ]
  },
  {
   "cell_type": "code",
   "execution_count": null,
   "id": "0347fc9b",
   "metadata": {},
   "outputs": [],
   "source": []
  },
  {
   "cell_type": "markdown",
   "id": "c0419ae4",
   "metadata": {},
   "source": [
    "### ISSUE #2"
   ]
  },
  {
   "cell_type": "code",
   "execution_count": 32,
   "id": "568d3ebb",
   "metadata": {},
   "outputs": [],
   "source": [
    "fnodes = df[df.id==\"Smith LLC\"]"
   ]
  },
  {
   "cell_type": "code",
   "execution_count": 33,
   "id": "4028339a",
   "metadata": {},
   "outputs": [
    {
     "data": {
      "text/html": [
       "<div>\n",
       "<style scoped>\n",
       "    .dataframe tbody tr th:only-of-type {\n",
       "        vertical-align: middle;\n",
       "    }\n",
       "\n",
       "    .dataframe tbody tr th {\n",
       "        vertical-align: top;\n",
       "    }\n",
       "\n",
       "    .dataframe thead th {\n",
       "        text-align: right;\n",
       "    }\n",
       "</style>\n",
       "<table border=\"1\" class=\"dataframe\">\n",
       "  <thead>\n",
       "    <tr style=\"text-align: right;\">\n",
       "      <th></th>\n",
       "      <th>country</th>\n",
       "      <th>id</th>\n",
       "      <th>product_services</th>\n",
       "      <th>revenue_omu</th>\n",
       "      <th>type</th>\n",
       "    </tr>\n",
       "  </thead>\n",
       "  <tbody>\n",
       "    <tr>\n",
       "      <th>336</th>\n",
       "      <td>ZH</td>\n",
       "      <td>Smith LLC</td>\n",
       "      <td>Battery chargers and power supplies</td>\n",
       "      <td>404431.3938</td>\n",
       "      <td>Company</td>\n",
       "    </tr>\n",
       "    <tr>\n",
       "      <th>1431</th>\n",
       "      <td>ZH</td>\n",
       "      <td>Smith LLC</td>\n",
       "      <td>Unknown</td>\n",
       "      <td>50258.3155</td>\n",
       "      <td>Company</td>\n",
       "    </tr>\n",
       "    <tr>\n",
       "      <th>2596</th>\n",
       "      <td>ZH</td>\n",
       "      <td>Smith LLC</td>\n",
       "      <td>Jelly glues</td>\n",
       "      <td>20068.1025</td>\n",
       "      <td>Company</td>\n",
       "    </tr>\n",
       "    <tr>\n",
       "      <th>6009</th>\n",
       "      <td>ZH</td>\n",
       "      <td>Smith LLC</td>\n",
       "      <td>Unknown</td>\n",
       "      <td>4671.5</td>\n",
       "      <td>Company</td>\n",
       "    </tr>\n",
       "    <tr>\n",
       "      <th>6241</th>\n",
       "      <td>ZH</td>\n",
       "      <td>Smith LLC</td>\n",
       "      <td>Unknown</td>\n",
       "      <td>Unknown</td>\n",
       "      <td>Company</td>\n",
       "    </tr>\n",
       "    <tr>\n",
       "      <th>6813</th>\n",
       "      <td>ZH</td>\n",
       "      <td>Smith LLC</td>\n",
       "      <td>Unknown</td>\n",
       "      <td>Unknown</td>\n",
       "      <td>Company</td>\n",
       "    </tr>\n",
       "    <tr>\n",
       "      <th>8991</th>\n",
       "      <td>ZH</td>\n",
       "      <td>Smith LLC</td>\n",
       "      <td></td>\n",
       "      <td></td>\n",
       "      <td>Beneficial Owner</td>\n",
       "    </tr>\n",
       "    <tr>\n",
       "      <th>9428</th>\n",
       "      <td>ZH</td>\n",
       "      <td>Smith LLC</td>\n",
       "      <td></td>\n",
       "      <td></td>\n",
       "      <td>Beneficial Owner</td>\n",
       "    </tr>\n",
       "    <tr>\n",
       "      <th>9996</th>\n",
       "      <td>ZH</td>\n",
       "      <td>Smith LLC</td>\n",
       "      <td></td>\n",
       "      <td></td>\n",
       "      <td>Beneficial Owner</td>\n",
       "    </tr>\n",
       "    <tr>\n",
       "      <th>10544</th>\n",
       "      <td>ZH</td>\n",
       "      <td>Smith LLC</td>\n",
       "      <td></td>\n",
       "      <td></td>\n",
       "      <td>Beneficial Owner</td>\n",
       "    </tr>\n",
       "    <tr>\n",
       "      <th>10594</th>\n",
       "      <td>ZH</td>\n",
       "      <td>Smith LLC</td>\n",
       "      <td></td>\n",
       "      <td></td>\n",
       "      <td>Beneficial Owner</td>\n",
       "    </tr>\n",
       "    <tr>\n",
       "      <th>10775</th>\n",
       "      <td>ZH</td>\n",
       "      <td>Smith LLC</td>\n",
       "      <td></td>\n",
       "      <td></td>\n",
       "      <td>Beneficial Owner</td>\n",
       "    </tr>\n",
       "    <tr>\n",
       "      <th>11017</th>\n",
       "      <td>ZH</td>\n",
       "      <td>Smith LLC</td>\n",
       "      <td></td>\n",
       "      <td></td>\n",
       "      <td>Beneficial Owner</td>\n",
       "    </tr>\n",
       "    <tr>\n",
       "      <th>11578</th>\n",
       "      <td>ZH</td>\n",
       "      <td>Smith LLC</td>\n",
       "      <td></td>\n",
       "      <td></td>\n",
       "      <td>Beneficial Owner</td>\n",
       "    </tr>\n",
       "    <tr>\n",
       "      <th>12238</th>\n",
       "      <td>ZH</td>\n",
       "      <td>Smith LLC</td>\n",
       "      <td></td>\n",
       "      <td></td>\n",
       "      <td>Beneficial Owner</td>\n",
       "    </tr>\n",
       "    <tr>\n",
       "      <th>12489</th>\n",
       "      <td>ZH</td>\n",
       "      <td>Smith LLC</td>\n",
       "      <td></td>\n",
       "      <td></td>\n",
       "      <td>Beneficial Owner</td>\n",
       "    </tr>\n",
       "    <tr>\n",
       "      <th>12849</th>\n",
       "      <td>ZH</td>\n",
       "      <td>Smith LLC</td>\n",
       "      <td></td>\n",
       "      <td></td>\n",
       "      <td>Beneficial Owner</td>\n",
       "    </tr>\n",
       "    <tr>\n",
       "      <th>13219</th>\n",
       "      <td>ZH</td>\n",
       "      <td>Smith LLC</td>\n",
       "      <td></td>\n",
       "      <td></td>\n",
       "      <td>Beneficial Owner</td>\n",
       "    </tr>\n",
       "    <tr>\n",
       "      <th>13370</th>\n",
       "      <td>ZH</td>\n",
       "      <td>Smith LLC</td>\n",
       "      <td></td>\n",
       "      <td></td>\n",
       "      <td>Beneficial Owner</td>\n",
       "    </tr>\n",
       "    <tr>\n",
       "      <th>13558</th>\n",
       "      <td>ZH</td>\n",
       "      <td>Smith LLC</td>\n",
       "      <td></td>\n",
       "      <td></td>\n",
       "      <td>Beneficial Owner</td>\n",
       "    </tr>\n",
       "    <tr>\n",
       "      <th>14648</th>\n",
       "      <td>ZH</td>\n",
       "      <td>Smith LLC</td>\n",
       "      <td></td>\n",
       "      <td></td>\n",
       "      <td>Beneficial Owner</td>\n",
       "    </tr>\n",
       "    <tr>\n",
       "      <th>16380</th>\n",
       "      <td>ZH</td>\n",
       "      <td>Smith LLC</td>\n",
       "      <td></td>\n",
       "      <td></td>\n",
       "      <td>Beneficial Owner</td>\n",
       "    </tr>\n",
       "    <tr>\n",
       "      <th>17393</th>\n",
       "      <td>ZH</td>\n",
       "      <td>Smith LLC</td>\n",
       "      <td></td>\n",
       "      <td></td>\n",
       "      <td>Beneficial Owner</td>\n",
       "    </tr>\n",
       "    <tr>\n",
       "      <th>20183</th>\n",
       "      <td>ZH</td>\n",
       "      <td>Smith LLC</td>\n",
       "      <td></td>\n",
       "      <td></td>\n",
       "      <td>Beneficial Owner</td>\n",
       "    </tr>\n",
       "    <tr>\n",
       "      <th>20484</th>\n",
       "      <td>ZH</td>\n",
       "      <td>Smith LLC</td>\n",
       "      <td></td>\n",
       "      <td></td>\n",
       "      <td>Beneficial Owner</td>\n",
       "    </tr>\n",
       "    <tr>\n",
       "      <th>20820</th>\n",
       "      <td>ZH</td>\n",
       "      <td>Smith LLC</td>\n",
       "      <td></td>\n",
       "      <td></td>\n",
       "      <td>Company Contacts</td>\n",
       "    </tr>\n",
       "    <tr>\n",
       "      <th>20913</th>\n",
       "      <td>ZH</td>\n",
       "      <td>Smith LLC</td>\n",
       "      <td></td>\n",
       "      <td></td>\n",
       "      <td>Company Contacts</td>\n",
       "    </tr>\n",
       "    <tr>\n",
       "      <th>21695</th>\n",
       "      <td>ZH</td>\n",
       "      <td>Smith LLC</td>\n",
       "      <td></td>\n",
       "      <td></td>\n",
       "      <td>Company Contacts</td>\n",
       "    </tr>\n",
       "    <tr>\n",
       "      <th>21904</th>\n",
       "      <td>ZH</td>\n",
       "      <td>Smith LLC</td>\n",
       "      <td></td>\n",
       "      <td></td>\n",
       "      <td>Company Contacts</td>\n",
       "    </tr>\n",
       "    <tr>\n",
       "      <th>22154</th>\n",
       "      <td>ZH</td>\n",
       "      <td>Smith LLC</td>\n",
       "      <td></td>\n",
       "      <td></td>\n",
       "      <td>Company Contacts</td>\n",
       "    </tr>\n",
       "    <tr>\n",
       "      <th>22274</th>\n",
       "      <td>ZH</td>\n",
       "      <td>Smith LLC</td>\n",
       "      <td></td>\n",
       "      <td></td>\n",
       "      <td>Company Contacts</td>\n",
       "    </tr>\n",
       "    <tr>\n",
       "      <th>22499</th>\n",
       "      <td>ZH</td>\n",
       "      <td>Smith LLC</td>\n",
       "      <td></td>\n",
       "      <td></td>\n",
       "      <td>Company Contacts</td>\n",
       "    </tr>\n",
       "    <tr>\n",
       "      <th>22776</th>\n",
       "      <td>ZH</td>\n",
       "      <td>Smith LLC</td>\n",
       "      <td></td>\n",
       "      <td></td>\n",
       "      <td>Company Contacts</td>\n",
       "    </tr>\n",
       "    <tr>\n",
       "      <th>23192</th>\n",
       "      <td>ZH</td>\n",
       "      <td>Smith LLC</td>\n",
       "      <td></td>\n",
       "      <td></td>\n",
       "      <td>Company Contacts</td>\n",
       "    </tr>\n",
       "    <tr>\n",
       "      <th>23770</th>\n",
       "      <td>ZH</td>\n",
       "      <td>Smith LLC</td>\n",
       "      <td></td>\n",
       "      <td></td>\n",
       "      <td>Company Contacts</td>\n",
       "    </tr>\n",
       "    <tr>\n",
       "      <th>23792</th>\n",
       "      <td>ZH</td>\n",
       "      <td>Smith LLC</td>\n",
       "      <td></td>\n",
       "      <td></td>\n",
       "      <td>Company Contacts</td>\n",
       "    </tr>\n",
       "    <tr>\n",
       "      <th>23954</th>\n",
       "      <td>ZH</td>\n",
       "      <td>Smith LLC</td>\n",
       "      <td></td>\n",
       "      <td></td>\n",
       "      <td>Company Contacts</td>\n",
       "    </tr>\n",
       "    <tr>\n",
       "      <th>25132</th>\n",
       "      <td>ZH</td>\n",
       "      <td>Smith LLC</td>\n",
       "      <td></td>\n",
       "      <td></td>\n",
       "      <td>Company Contacts</td>\n",
       "    </tr>\n",
       "    <tr>\n",
       "      <th>25578</th>\n",
       "      <td>ZH</td>\n",
       "      <td>Smith LLC</td>\n",
       "      <td></td>\n",
       "      <td></td>\n",
       "      <td>Company Contacts</td>\n",
       "    </tr>\n",
       "    <tr>\n",
       "      <th>25830</th>\n",
       "      <td>ZH</td>\n",
       "      <td>Smith LLC</td>\n",
       "      <td></td>\n",
       "      <td></td>\n",
       "      <td>Company Contacts</td>\n",
       "    </tr>\n",
       "  </tbody>\n",
       "</table>\n",
       "</div>"
      ],
      "text/plain": [
       "      country         id                     product_services  revenue_omu  \\\n",
       "336        ZH  Smith LLC  Battery chargers and power supplies  404431.3938   \n",
       "1431       ZH  Smith LLC                              Unknown   50258.3155   \n",
       "2596       ZH  Smith LLC                          Jelly glues   20068.1025   \n",
       "6009       ZH  Smith LLC                              Unknown       4671.5   \n",
       "6241       ZH  Smith LLC                              Unknown      Unknown   \n",
       "6813       ZH  Smith LLC                              Unknown      Unknown   \n",
       "8991       ZH  Smith LLC                                                     \n",
       "9428       ZH  Smith LLC                                                     \n",
       "9996       ZH  Smith LLC                                                     \n",
       "10544      ZH  Smith LLC                                                     \n",
       "10594      ZH  Smith LLC                                                     \n",
       "10775      ZH  Smith LLC                                                     \n",
       "11017      ZH  Smith LLC                                                     \n",
       "11578      ZH  Smith LLC                                                     \n",
       "12238      ZH  Smith LLC                                                     \n",
       "12489      ZH  Smith LLC                                                     \n",
       "12849      ZH  Smith LLC                                                     \n",
       "13219      ZH  Smith LLC                                                     \n",
       "13370      ZH  Smith LLC                                                     \n",
       "13558      ZH  Smith LLC                                                     \n",
       "14648      ZH  Smith LLC                                                     \n",
       "16380      ZH  Smith LLC                                                     \n",
       "17393      ZH  Smith LLC                                                     \n",
       "20183      ZH  Smith LLC                                                     \n",
       "20484      ZH  Smith LLC                                                     \n",
       "20820      ZH  Smith LLC                                                     \n",
       "20913      ZH  Smith LLC                                                     \n",
       "21695      ZH  Smith LLC                                                     \n",
       "21904      ZH  Smith LLC                                                     \n",
       "22154      ZH  Smith LLC                                                     \n",
       "22274      ZH  Smith LLC                                                     \n",
       "22499      ZH  Smith LLC                                                     \n",
       "22776      ZH  Smith LLC                                                     \n",
       "23192      ZH  Smith LLC                                                     \n",
       "23770      ZH  Smith LLC                                                     \n",
       "23792      ZH  Smith LLC                                                     \n",
       "23954      ZH  Smith LLC                                                     \n",
       "25132      ZH  Smith LLC                                                     \n",
       "25578      ZH  Smith LLC                                                     \n",
       "25830      ZH  Smith LLC                                                     \n",
       "\n",
       "                   type  \n",
       "336             Company  \n",
       "1431            Company  \n",
       "2596            Company  \n",
       "6009            Company  \n",
       "6241            Company  \n",
       "6813            Company  \n",
       "8991   Beneficial Owner  \n",
       "9428   Beneficial Owner  \n",
       "9996   Beneficial Owner  \n",
       "10544  Beneficial Owner  \n",
       "10594  Beneficial Owner  \n",
       "10775  Beneficial Owner  \n",
       "11017  Beneficial Owner  \n",
       "11578  Beneficial Owner  \n",
       "12238  Beneficial Owner  \n",
       "12489  Beneficial Owner  \n",
       "12849  Beneficial Owner  \n",
       "13219  Beneficial Owner  \n",
       "13370  Beneficial Owner  \n",
       "13558  Beneficial Owner  \n",
       "14648  Beneficial Owner  \n",
       "16380  Beneficial Owner  \n",
       "17393  Beneficial Owner  \n",
       "20183  Beneficial Owner  \n",
       "20484  Beneficial Owner  \n",
       "20820  Company Contacts  \n",
       "20913  Company Contacts  \n",
       "21695  Company Contacts  \n",
       "21904  Company Contacts  \n",
       "22154  Company Contacts  \n",
       "22274  Company Contacts  \n",
       "22499  Company Contacts  \n",
       "22776  Company Contacts  \n",
       "23192  Company Contacts  \n",
       "23770  Company Contacts  \n",
       "23792  Company Contacts  \n",
       "23954  Company Contacts  \n",
       "25132  Company Contacts  \n",
       "25578  Company Contacts  \n",
       "25830  Company Contacts  "
      ]
     },
     "execution_count": 33,
     "metadata": {},
     "output_type": "execute_result"
    }
   ],
   "source": [
    "fnodes"
   ]
  },
  {
   "cell_type": "code",
   "execution_count": 34,
   "id": "f4910558",
   "metadata": {},
   "outputs": [],
   "source": [
    "fedges = df1[(df1.source==\"Smith LLC\") | (df1.target==\"Smith LLC\")]"
   ]
  },
  {
   "cell_type": "code",
   "execution_count": 35,
   "id": "0f142e1b",
   "metadata": {},
   "outputs": [
    {
     "data": {
      "text/html": [
       "<div>\n",
       "<style scoped>\n",
       "    .dataframe tbody tr th:only-of-type {\n",
       "        vertical-align: middle;\n",
       "    }\n",
       "\n",
       "    .dataframe tbody tr th {\n",
       "        vertical-align: top;\n",
       "    }\n",
       "\n",
       "    .dataframe thead th {\n",
       "        text-align: right;\n",
       "    }\n",
       "</style>\n",
       "<table border=\"1\" class=\"dataframe\">\n",
       "  <thead>\n",
       "    <tr style=\"text-align: right;\">\n",
       "      <th></th>\n",
       "      <th>source</th>\n",
       "      <th>target</th>\n",
       "      <th>type</th>\n",
       "    </tr>\n",
       "  </thead>\n",
       "  <tbody>\n",
       "    <tr>\n",
       "      <th>5014</th>\n",
       "      <td>Smith LLC</td>\n",
       "      <td>Michelle Tucker PhD</td>\n",
       "      <td>Beneficial Owner</td>\n",
       "    </tr>\n",
       "    <tr>\n",
       "      <th>5872</th>\n",
       "      <td>Smith LLC</td>\n",
       "      <td>Christine Roberts</td>\n",
       "      <td>Beneficial Owner</td>\n",
       "    </tr>\n",
       "    <tr>\n",
       "      <th>6183</th>\n",
       "      <td>Smith LLC</td>\n",
       "      <td>Kristen Villa</td>\n",
       "      <td>Beneficial Owner</td>\n",
       "    </tr>\n",
       "    <tr>\n",
       "      <th>9583</th>\n",
       "      <td>Smith LLC</td>\n",
       "      <td>Timothy Cox</td>\n",
       "      <td>Beneficial Owner</td>\n",
       "    </tr>\n",
       "    <tr>\n",
       "      <th>11068</th>\n",
       "      <td>Smith LLC</td>\n",
       "      <td>Susan Underwood</td>\n",
       "      <td>Company Contacts</td>\n",
       "    </tr>\n",
       "    <tr>\n",
       "      <th>12452</th>\n",
       "      <td>Smith LLC</td>\n",
       "      <td>Tamara Taylor</td>\n",
       "      <td>Company Contacts</td>\n",
       "    </tr>\n",
       "    <tr>\n",
       "      <th>13618</th>\n",
       "      <td>Smith LLC</td>\n",
       "      <td>Natasha Rodriguez</td>\n",
       "      <td>Beneficial Owner</td>\n",
       "    </tr>\n",
       "    <tr>\n",
       "      <th>18069</th>\n",
       "      <td>Smith LLC</td>\n",
       "      <td>Barbara Guzman</td>\n",
       "      <td>Beneficial Owner</td>\n",
       "    </tr>\n",
       "    <tr>\n",
       "      <th>18241</th>\n",
       "      <td>Smith LLC</td>\n",
       "      <td>Danny Stewart</td>\n",
       "      <td>Beneficial Owner</td>\n",
       "    </tr>\n",
       "    <tr>\n",
       "      <th>19470</th>\n",
       "      <td>Smith LLC</td>\n",
       "      <td>Michelle Murray</td>\n",
       "      <td>Beneficial Owner</td>\n",
       "    </tr>\n",
       "    <tr>\n",
       "      <th>19770</th>\n",
       "      <td>Smith LLC</td>\n",
       "      <td>Pamela Jacobs</td>\n",
       "      <td>Beneficial Owner</td>\n",
       "    </tr>\n",
       "    <tr>\n",
       "      <th>19889</th>\n",
       "      <td>Smith LLC</td>\n",
       "      <td>Terry Smith</td>\n",
       "      <td>Company Contacts</td>\n",
       "    </tr>\n",
       "    <tr>\n",
       "      <th>19981</th>\n",
       "      <td>Smith LLC</td>\n",
       "      <td>Brad Shannon</td>\n",
       "      <td>Beneficial Owner</td>\n",
       "    </tr>\n",
       "  </tbody>\n",
       "</table>\n",
       "</div>"
      ],
      "text/plain": [
       "          source               target              type\n",
       "5014   Smith LLC  Michelle Tucker PhD  Beneficial Owner\n",
       "5872   Smith LLC    Christine Roberts  Beneficial Owner\n",
       "6183   Smith LLC        Kristen Villa  Beneficial Owner\n",
       "9583   Smith LLC          Timothy Cox  Beneficial Owner\n",
       "11068  Smith LLC      Susan Underwood  Company Contacts\n",
       "12452  Smith LLC        Tamara Taylor  Company Contacts\n",
       "13618  Smith LLC    Natasha Rodriguez  Beneficial Owner\n",
       "18069  Smith LLC       Barbara Guzman  Beneficial Owner\n",
       "18241  Smith LLC        Danny Stewart  Beneficial Owner\n",
       "19470  Smith LLC      Michelle Murray  Beneficial Owner\n",
       "19770  Smith LLC        Pamela Jacobs  Beneficial Owner\n",
       "19889  Smith LLC          Terry Smith  Company Contacts\n",
       "19981  Smith LLC         Brad Shannon  Beneficial Owner"
      ]
     },
     "execution_count": 35,
     "metadata": {},
     "output_type": "execute_result"
    }
   ],
   "source": [
    "fedges"
   ]
  },
  {
   "cell_type": "code",
   "execution_count": 36,
   "id": "f19d9162",
   "metadata": {},
   "outputs": [],
   "source": [
    "G = nx.MultiGraph()\n",
    "\n",
    "for i, node in enumerate(fnodes.values):\n",
    "    node_id = node[1]\n",
    "    G.add_node(node_id, serial=i, revenue=node[3], type1=node[4])\n",
    "\n",
    "for edge in fedges.values:\n",
    "    source = edge[0]\n",
    "    target = edge[1]\n",
    "    G.add_edge(source,target)"
   ]
  },
  {
   "cell_type": "code",
   "execution_count": 37,
   "id": "4d2c756e",
   "metadata": {},
   "outputs": [],
   "source": [
    "%matplotlib inline"
   ]
  },
  {
   "cell_type": "code",
   "execution_count": 38,
   "id": "e0961d94",
   "metadata": {},
   "outputs": [
    {
     "data": {
      "text/plain": [
       "(13, 14)"
      ]
     },
     "execution_count": 38,
     "metadata": {},
     "output_type": "execute_result"
    }
   ],
   "source": [
    "G.number_of_edges(), G.number_of_nodes()"
   ]
  },
  {
   "cell_type": "code",
   "execution_count": null,
   "id": "a57279fa",
   "metadata": {},
   "outputs": [],
   "source": []
  },
  {
   "cell_type": "code",
   "execution_count": 40,
   "id": "634f8e38",
   "metadata": {},
   "outputs": [
    {
     "data": {
      "image/png": "[encoded data removed]",
      "text/plain": [
       "<Figure size 432x288 with 1 Axes>"
      ]
     },
     "metadata": {},
     "output_type": "display_data"
    }
   ],
   "source": [
    "nx.draw(G)"
   ]
  },
  {
   "cell_type": "code",
   "execution_count": 152,
   "id": "2be02739",
   "metadata": {},
   "outputs": [
    {
     "data": {
      "text/plain": [
       "NodeDataView({'Miller Group': {'serial': 15, 'revenue': nan, 'type1': ['Company Contacts']}, 'Steven Austin': {}, 'Melanie Williamson': {}, 'Laura Williams': {}, 'Jason Welch': {}, 'Kaitlyn Hurst': {}, 'Louis Harmon': {}})"
      ]
     },
     "execution_count": 152,
     "metadata": {},
     "output_type": "execute_result"
    }
   ],
   "source": [
    "G.nodes.data()"
   ]
  },
  {
   "cell_type": "code",
   "execution_count": null,
   "id": "a001ef30",
   "metadata": {},
   "outputs": [],
   "source": []
  },
  {
   "cell_type": "code",
   "execution_count": 66,
   "id": "7002012b",
   "metadata": {},
   "outputs": [
    {
     "ename": "KeyboardInterrupt",
     "evalue": "",
     "output_type": "error",
     "traceback": [
      "\u001b[1;31m---------------------------------------------------------------------------\u001b[0m",
      "\u001b[1;31mKeyboardInterrupt\u001b[0m                         Traceback (most recent call last)",
      "Input \u001b[1;32mIn [66]\u001b[0m, in \u001b[0;36m<cell line: 1>\u001b[1;34m()\u001b[0m\n\u001b[1;32m----> 1\u001b[0m \u001b[38;5;28;01mfor\u001b[39;00m s \u001b[38;5;129;01min\u001b[39;00m (\u001b[38;5;28mset\u001b[39m(nodes) \u001b[38;5;241m-\u001b[39m \u001b[38;5;28mset\u001b[39m(nodes_edges)):\n\u001b[0;32m      2\u001b[0m     \u001b[38;5;28;01mif\u001b[39;00m s \u001b[38;5;129;01min\u001b[39;00m nodes_edges:\n\u001b[0;32m      3\u001b[0m         \u001b[38;5;28mprint\u001b[39m(s)\n",
      "\u001b[1;31mKeyboardInterrupt\u001b[0m: "
     ]
    }
   ],
   "source": [
    "for s in (set(nodes) - set(nodes_edges)):\n",
    "    if s in nodes_edges:\n",
    "        print(s)\n"
   ]
  },
  {
   "cell_type": "code",
   "execution_count": null,
   "id": "c29864e6",
   "metadata": {},
   "outputs": [],
   "source": []
  },
  {
   "cell_type": "code",
   "execution_count": null,
   "id": "690e2fae",
   "metadata": {},
   "outputs": [],
   "source": []
  },
  {
   "cell_type": "code",
   "execution_count": null,
   "id": "877b9696",
   "metadata": {},
   "outputs": [],
   "source": []
  },
  {
   "cell_type": "code",
   "execution_count": null,
   "id": "0d21653f",
   "metadata": {},
   "outputs": [],
   "source": []
  }
 ],
 "metadata": {
  "kernelspec": {
   "display_name": "Python 3 (ipykernel)",
   "language": "python",
   "name": "python3"
  },
  "language_info": {
   "codemirror_mode": {
    "name": "ipython",
    "version": 3
   },
   "file_extension": ".py",
   "mimetype": "text/x-python",
   "name": "python",
   "nbconvert_exporter": "python",
   "pygments_lexer": "ipython3",
   "version": "3.9.12"
  }
 },
 "nbformat": 4,
 "nbformat_minor": 5
}
