{
 "cells": [
  {
   "cell_type": "code",
   "execution_count": 1,
   "id": "3fa80df3-7b95-460a-bf33-287ee5ed504e",
   "metadata": {},
   "outputs": [
    {
     "name": "stderr",
     "output_type": "stream",
     "text": [
      "Warning: Ignoring XDG_SESSION_TYPE=wayland on Gnome. Use QT_QPA_PLATFORM=wayland to run on Wayland anyway.\n"
     ]
    }
   ],
   "source": [
    "%matplotlib qt"
   ]
  },
  {
   "cell_type": "code",
   "execution_count": 8,
   "id": "138afb35-1196-406e-a992-2b1af5d947c9",
   "metadata": {},
   "outputs": [],
   "source": [
    "import matplotlib.pyplot as plt\n",
    "import networkx as nx\n",
    "import pandas as pd\n",
    "import numpy as np\n",
    "import json\n",
    "from sklearn import preprocessing"
   ]
  },
  {
   "cell_type": "code",
   "execution_count": null,
   "id": "2e884cd5-acc5-4f86-a8c8-aca7ca53a964",
   "metadata": {},
   "outputs": [],
   "source": []
  },
  {
   "cell_type": "code",
   "execution_count": 1,
   "id": "0a283765-230d-4d85-a857-ca078783219b",
   "metadata": {},
   "outputs": [
    {
     "data": {
      "text/plain": [
       "'with open(\"MC3/MC3.json\", \"r\") as f:\\n    data = json.load(f)\\n\\n# Create a NetworkX graph\\nG = nx.MultiGraph()\\n\\n# Add nodes to the graph\\nfor i, node in enumerate(data[\\'nodes\\']):\\n    node_id = node[\\'id\\'][0]\\n    G.add_node(node_id, serial=i, type=node[\"type\"][0])\\n\\n    \\n# Add edges to the graph\\nfor edge in data[\\'links\\']:\\n    source = edge[\\'source\\'][0]\\n    target = edge[\\'target\\'][0]\\n    G.add_edge(source,target)'"
      ]
     },
     "execution_count": 1,
     "metadata": {},
     "output_type": "execute_result"
    }
   ],
   "source": [
    "\"\"\"with open(\"MC3/MC3.json\", \"r\") as f:\n",
    "    data = json.load(f)\n",
    "\n",
    "# Create a NetworkX graph\n",
    "G = nx.MultiGraph()\n",
    "\n",
    "# Add nodes to the graph\n",
    "for i, node in enumerate(data['nodes']):\n",
    "    node_id = node['id'][0]\n",
    "    G.add_node(node_id, serial=i, type=node[\"type\"][0])\n",
    "\n",
    "    \n",
    "# Add edges to the graph\n",
    "for edge in data['links']:\n",
    "    source = edge['source'][0]\n",
    "    target = edge['target'][0]\n",
    "    G.add_edge(source,target)\"\"\""
   ]
  },
  {
   "cell_type": "code",
   "execution_count": null,
   "id": "61f04257-30d5-40d3-b090-c24d15fcd3e6",
   "metadata": {},
   "outputs": [],
   "source": []
  },
  {
   "cell_type": "code",
   "execution_count": null,
   "id": "9bf68cf3-d29d-49a5-8991-da2154e00446",
   "metadata": {},
   "outputs": [],
   "source": []
  },
  {
   "cell_type": "code",
   "execution_count": null,
   "id": "41abb508-faae-42ba-9447-0955ca5abb82",
   "metadata": {},
   "outputs": [],
   "source": []
  },
  {
   "cell_type": "code",
   "execution_count": null,
   "id": "b61cd392-e7ea-48cf-8a73-c3f2378fd5ec",
   "metadata": {},
   "outputs": [],
   "source": []
  },
  {
   "cell_type": "markdown",
   "id": "c10adadb-bc5f-41f4-b6a4-20576de45628",
   "metadata": {},
   "source": [
    "#### Convertir a numeros"
   ]
  },
  {
   "cell_type": "code",
   "execution_count": 5,
   "id": "5cf11018-6eff-4a74-970d-a503e111d809",
   "metadata": {},
   "outputs": [],
   "source": [
    "df = pd.DataFrame(data[\"links\"])"
   ]
  },
  {
   "cell_type": "code",
   "execution_count": 6,
   "id": "fb38ac66-059d-4f0e-b9f4-d167bdc0ea86",
   "metadata": {},
   "outputs": [],
   "source": [
    "df.source = df.source.apply(lambda x: x[0])\n",
    "df.target = df.target.apply(lambda x: x[0])\n",
    "\n",
    "df = df[[\"source\", \"target\"]]"
   ]
  },
  {
   "cell_type": "code",
   "execution_count": 9,
   "id": "990fbdf8-f474-4255-988e-a241c31b04c5",
   "metadata": {},
   "outputs": [],
   "source": [
    "encoder = preprocessing.OrdinalEncoder()"
   ]
  },
  {
   "cell_type": "code",
   "execution_count": 10,
   "id": "3348bfb2-844b-43fa-ab49-9617d1564b10",
   "metadata": {},
   "outputs": [],
   "source": [
    "edges = encoder.fit_transform(df.values)"
   ]
  },
  {
   "cell_type": "code",
   "execution_count": 15,
   "id": "3d7b70f2-23ed-4242-bd33-9d043715e693",
   "metadata": {},
   "outputs": [],
   "source": [
    "G = nx.MultiGraph()\n",
    "\n",
    "for edge in edges:\n",
    "    source = edge[0]\n",
    "    target = edge[1]\n",
    "    G.add_edge(source,target)"
   ]
  },
  {
   "cell_type": "code",
   "execution_count": 16,
   "id": "72032268-1a5a-485c-a236-fbc2fb919de5",
   "metadata": {},
   "outputs": [
    {
     "data": {
      "text/plain": [
       "(21265, 24038)"
      ]
     },
     "execution_count": 16,
     "metadata": {},
     "output_type": "execute_result"
    }
   ],
   "source": [
    "G.number_of_nodes(), G.number_of_edges()"
   ]
  },
  {
   "cell_type": "code",
   "execution_count": null,
   "id": "65944a4a-a42b-4446-9546-9fc7abbda319",
   "metadata": {},
   "outputs": [],
   "source": [
    "nx.draw(G)"
   ]
  },
  {
   "cell_type": "code",
   "execution_count": null,
   "id": "c0c5cde6-2f10-44af-8271-95a55b61fadf",
   "metadata": {},
   "outputs": [],
   "source": [
    "nx.write_gexf(G, \"graph.gexf\") ##para pasar al formato de giphi"
   ]
  },
  {
   "cell_type": "code",
   "execution_count": 40,
   "id": "c9e095e3-2568-4225-9bf5-41437eb62dce",
   "metadata": {},
   "outputs": [],
   "source": []
  },
  {
   "cell_type": "markdown",
   "id": "7179e00d-6e38-48e9-80a1-5c65f8dc7505",
   "metadata": {},
   "source": [
    "#### Para ver que hay nodos duplicados"
   ]
  },
  {
   "cell_type": "code",
   "execution_count": 46,
   "id": "a7c510fd-b4bb-4fca-bc25-ef50e6f6afcd",
   "metadata": {},
   "outputs": [],
   "source": [
    "df = pd.DataFrame(data[\"nodes\"])"
   ]
  },
  {
   "cell_type": "code",
   "execution_count": 52,
   "id": "5773c6a7-20cc-441f-b6a9-0fafe4113b25",
   "metadata": {},
   "outputs": [],
   "source": [
    "df.id = df.id.apply(lambda x:x[0])dd"
   ]
  },
  {
   "cell_type": "code",
   "execution_count": null,
   "id": "17da23ef-73c9-41e7-9ad9-71e3cbcf15b7",
   "metadata": {},
   "outputs": [],
   "source": [
    "df"
   ]
  },
  {
   "cell_type": "code",
   "execution_count": 54,
   "id": "5648568c-5c52-43c3-b327-94a0970a87b4",
   "metadata": {},
   "outputs": [
    {
     "data": {
      "text/plain": [
       "id\n",
       "1 AS Marine sanctuary           1\n",
       "1 Eel Corporation Transport     1\n",
       "1 Ltd. Corporation Transport    1\n",
       "1 Ltd. Liability Co             1\n",
       "1 Ltd. Liability Co Cargo       1\n",
       "                               ..\n",
       "zhāng yú Marine conservation    1\n",
       "zūn yú GmbH & Co. KG Creek      1\n",
       "zūn yú Ltd. Liability Co        1\n",
       "zūn yú N.V. Shipping            1\n",
       "zūn yú S.A. de C.V.             1\n",
       "Length: 22929, dtype: int64"
      ]
     },
     "execution_count": 54,
     "metadata": {},
     "output_type": "execute_result"
    }
   ],
   "source": [
    "df.pivot_table(index=[\"id\"],aggfunc ='size')"
   ]
  },
  {
   "cell_type": "code",
   "execution_count": null,
   "id": "68048a48-e2cb-4f87-9c25-1585cbafc3dc",
   "metadata": {},
   "outputs": [],
   "source": []
  },
  {
   "cell_type": "code",
   "execution_count": null,
   "id": "656ebe21-6014-44e5-9f07-3f7c08e37e21",
   "metadata": {},
   "outputs": [],
   "source": []
  }
 ],
 "metadata": {
  "kernelspec": {
   "display_name": "Python 3 (ipykernel)",
   "language": "python",
   "name": "python3"
  },
  "language_info": {
   "codemirror_mode": {
    "name": "ipython",
    "version": 3
   },
   "file_extension": ".py",
   "mimetype": "text/x-python",
   "name": "python",
   "nbconvert_exporter": "python",
   "pygments_lexer": "ipython3",
   "version": "3.10.6"
  }
 },
 "nbformat": 4,
 "nbformat_minor": 5
}
