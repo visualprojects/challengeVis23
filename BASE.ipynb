{
 "cells": [
  {
   "cell_type": "code",
   "execution_count": 1,
   "id": "3fa80df3-7b95-460a-bf33-287ee5ed504e",
   "metadata": {},
   "outputs": [],
   "source": [
    "%matplotlib qt"
   ]
  },
  {
   "cell_type": "code",
   "execution_count": 2,
   "id": "138afb35-1196-406e-a992-2b1af5d947c9",
   "metadata": {},
   "outputs": [],
   "source": [
    "import matplotlib.pyplot as plt\n",
    "import networkx as nx\n",
    "import pandas as pd\n",
    "import numpy as np\n",
    "import json\n",
    "from sklearn import preprocessing"
   ]
  },
  {
   "cell_type": "markdown",
   "id": "6eb13bb2",
   "metadata": {},
   "source": [
    "### ISSUE #1"
   ]
  },
  {
   "cell_type": "code",
   "execution_count": 91,
   "id": "0a283765-230d-4d85-a857-ca078783219b",
   "metadata": {},
   "outputs": [],
   "source": [
    "with open(\"MC3/MC3.json\", \"r\", encoding=\"utf8\") as f:\n",
    "    data = json.load(f)\n",
    "\n",
    "# Create a NetworkX graph\n",
    "G = nx.MultiGraph()\n",
    "\n",
    "# Add nodes to the graph\n",
    "for i, node in enumerate(data['nodes']):\n",
    "    node_id = node['id'][0]\n",
    "    country = node['country'][0]\n",
    "    #product_services = node[\"product_services\"][0]\n",
    "    #revenue_omu = node[\"revenue_omu\"][0]\n",
    "    G.add_node(node_id, ntype=node[\"type\"][0])\n",
    "\n",
    "    \n",
    "# Add edges to the graph\n",
    "for edge in data['links']:\n",
    "    source = edge['source'][0]\n",
    "    target = edge['target'][0]\n",
    "    G.add_edge(source,target)"
   ]
  },
  {
   "cell_type": "code",
   "execution_count": 92,
   "id": "1eb193b4",
   "metadata": {},
   "outputs": [
    {
     "data": {
      "text/plain": [
       "(24038, 51375)"
      ]
     },
     "execution_count": 92,
     "metadata": {},
     "output_type": "execute_result"
    }
   ],
   "source": [
    "G.number_of_edges(), G.number_of_nodes()"
   ]
  },
  {
   "cell_type": "code",
   "execution_count": 93,
   "id": "46addf6a",
   "metadata": {},
   "outputs": [
    {
     "data": {
      "text/plain": [
       "27384"
      ]
     },
     "execution_count": 93,
     "metadata": {},
     "output_type": "execute_result"
    }
   ],
   "source": [
    "nx.number_connected_components(G)"
   ]
  },
  {
   "cell_type": "markdown",
   "id": "506d85a2",
   "metadata": {},
   "source": [
    "#### another way to load file using only links info"
   ]
  },
  {
   "cell_type": "code",
   "execution_count": 4,
   "id": "d858fb2c",
   "metadata": {},
   "outputs": [],
   "source": [
    "edges2 = list(map(lambda x: (x[\"source\"][0], x[\"target\"][0]), data[\"links\"]))"
   ]
  },
  {
   "cell_type": "code",
   "execution_count": 5,
   "id": "315f8d1c",
   "metadata": {},
   "outputs": [],
   "source": [
    "G = nx.MultiGraph(edges2)"
   ]
  },
  {
   "cell_type": "code",
   "execution_count": 6,
   "id": "0e34cbbe",
   "metadata": {},
   "outputs": [
    {
     "data": {
      "text/plain": [
       "(24038, 34062)"
      ]
     },
     "execution_count": 6,
     "metadata": {},
     "output_type": "execute_result"
    }
   ],
   "source": [
    "G.number_of_edges(), G.number_of_nodes()"
   ]
  },
  {
   "cell_type": "code",
   "execution_count": 7,
   "id": "62206e5d",
   "metadata": {},
   "outputs": [
    {
     "data": {
      "text/plain": [
       "10071"
      ]
     },
     "execution_count": 7,
     "metadata": {},
     "output_type": "execute_result"
    }
   ],
   "source": [
    "nx.number_connected_components(G)"
   ]
  },
  {
   "cell_type": "code",
   "execution_count": 8,
   "id": "60373fa3",
   "metadata": {},
   "outputs": [],
   "source": [
    "nx.draw_circular(G)"
   ]
  },
  {
   "cell_type": "code",
   "execution_count": 40,
   "id": "c9e095e3-2568-4225-9bf5-41437eb62dce",
   "metadata": {},
   "outputs": [],
   "source": []
  },
  {
   "cell_type": "markdown",
   "id": "7179e00d-6e38-48e9-80a1-5c65f8dc7505",
   "metadata": {},
   "source": [
    "#### Para ver que hay nodos duplicados"
   ]
  },
  {
   "cell_type": "code",
   "execution_count": 48,
   "id": "e922f68a",
   "metadata": {},
   "outputs": [],
   "source": [
    "def safe_convert(x):\n",
    "    try:\n",
    "        return x[0]\n",
    "    except:\n",
    "        return x"
   ]
  },
  {
   "cell_type": "code",
   "execution_count": 49,
   "id": "5773c6a7-20cc-441f-b6a9-0fafe4113b25",
   "metadata": {},
   "outputs": [],
   "source": [
    "df = pd.DataFrame(data[\"nodes\"])\n",
    "\n",
    "df.id = df.id.apply(lambda x:x[0])\n",
    "df.country = df.country.apply(lambda x:x[0])\n",
    "df.product_services = df.product_services.apply(safe_convert)\n",
    "df.revenue_omu = df.revenue_omu.apply(safe_convert)\n",
    "df.type = df.type.apply(lambda x:x[0])"
   ]
  },
  {
   "cell_type": "code",
   "execution_count": 50,
   "id": "670d851c",
   "metadata": {},
   "outputs": [],
   "source": [
    "nodes = df.id.values.tolist()"
   ]
  },
  {
   "cell_type": "code",
   "execution_count": 68,
   "id": "d70af449",
   "metadata": {},
   "outputs": [
    {
     "data": {
      "text/plain": [
       "(27622, 22929)"
      ]
     },
     "execution_count": 68,
     "metadata": {},
     "output_type": "execute_result"
    }
   ],
   "source": [
    "len(nodes), len(set(nodes))#counting without duplicate"
   ]
  },
  {
   "cell_type": "code",
   "execution_count": null,
   "id": "17da23ef-73c9-41e7-9ad9-71e3cbcf15b7",
   "metadata": {},
   "outputs": [],
   "source": []
  },
  {
   "cell_type": "code",
   "execution_count": 64,
   "id": "5648568c-5c52-43c3-b327-94a0970a87b4",
   "metadata": {},
   "outputs": [],
   "source": [
    "df1 = pd.DataFrame(data[\"links\"])\n",
    "\n",
    "df1.source = df1.source.apply(lambda x: x[0])\n",
    "df1.target = df1.target.apply(lambda x: x[0])\n",
    "df1.type = df1.type.apply(lambda x: x[0])"
   ]
  },
  {
   "cell_type": "code",
   "execution_count": 65,
   "id": "68048a48-e2cb-4f87-9c25-1585cbafc3dc",
   "metadata": {},
   "outputs": [],
   "source": [
    "##all nodes from source and target\n",
    "nodes_edges = df1.source.values.tolist() + df1.target.values.tolist()"
   ]
  },
  {
   "cell_type": "code",
   "execution_count": 66,
   "id": "81d9215e",
   "metadata": {},
   "outputs": [
    {
     "data": {
      "text/plain": [
       "(48076, 34062)"
      ]
     },
     "execution_count": 66,
     "metadata": {},
     "output_type": "execute_result"
    }
   ],
   "source": [
    "len(nodes_edges), len(set(nodes_edges))#counting without duplicate"
   ]
  },
  {
   "cell_type": "code",
   "execution_count": null,
   "id": "66547dd0",
   "metadata": {},
   "outputs": [],
   "source": []
  },
  {
   "cell_type": "code",
   "execution_count": null,
   "id": "9819b68c",
   "metadata": {},
   "outputs": [],
   "source": []
  },
  {
   "cell_type": "code",
   "execution_count": 69,
   "id": "656ebe21-6014-44e5-9f07-3f7c08e37e21",
   "metadata": {},
   "outputs": [],
   "source": [
    "#how many nodes defined by links are not in the nodes section\n",
    "count = 0\n",
    "for i in set(nodes_edges):\n",
    "    if i not in nodes:\n",
    "        count+=1"
   ]
  },
  {
   "cell_type": "code",
   "execution_count": 79,
   "id": "0f7126b6",
   "metadata": {},
   "outputs": [
    {
     "data": {
      "text/plain": [
       "'#nodes defined by the links specified in the nodes section:5616'"
      ]
     },
     "execution_count": 79,
     "metadata": {},
     "output_type": "execute_result"
    }
   ],
   "source": [
    "\"#nodes defined by the links specified in the nodes section:{}\".format(len(set(nodes_edges)) - count)"
   ]
  },
  {
   "cell_type": "code",
   "execution_count": 80,
   "id": "56787da7",
   "metadata": {},
   "outputs": [
    {
     "data": {
      "text/plain": [
       "'#nodes defined by the links not specified in the nodes section:28446'"
      ]
     },
     "execution_count": 80,
     "metadata": {},
     "output_type": "execute_result"
    }
   ],
   "source": [
    "\"#nodes defined by the links not specified in the nodes section:{}\".format(count)"
   ]
  },
  {
   "cell_type": "code",
   "execution_count": null,
   "id": "14d95abf",
   "metadata": {},
   "outputs": [],
   "source": []
  },
  {
   "cell_type": "code",
   "execution_count": 92,
   "id": "3078681f",
   "metadata": {},
   "outputs": [],
   "source": []
  },
  {
   "cell_type": "code",
   "execution_count": 83,
   "id": "06aef99b",
   "metadata": {},
   "outputs": [],
   "source": [
    "count = 0\n",
    "for j in set(nodes):\n",
    "    if j in nodes_edges:\n",
    "        count+=1"
   ]
  },
  {
   "cell_type": "code",
   "execution_count": 84,
   "id": "1f347769",
   "metadata": {},
   "outputs": [
    {
     "data": {
      "text/plain": [
       "5616"
      ]
     },
     "execution_count": 84,
     "metadata": {},
     "output_type": "execute_result"
    }
   ],
   "source": [
    "count"
   ]
  },
  {
   "cell_type": "code",
   "execution_count": 85,
   "id": "08b0ce84",
   "metadata": {},
   "outputs": [
    {
     "data": {
      "text/plain": [
       "'#nodes that are in the links section.:5616'"
      ]
     },
     "execution_count": 85,
     "metadata": {},
     "output_type": "execute_result"
    }
   ],
   "source": [
    "\"#nodes that are in the links section.:{}\".format(count)"
   ]
  },
  {
   "cell_type": "code",
   "execution_count": 89,
   "id": "26557577",
   "metadata": {},
   "outputs": [
    {
     "data": {
      "text/plain": [
       "'#nodes that are not in the links section.:17313'"
      ]
     },
     "execution_count": 89,
     "metadata": {},
     "output_type": "execute_result"
    }
   ],
   "source": [
    "\"#nodes that are not in the links section.:{}\".format(len(set(nodes))-count)"
   ]
  },
  {
   "cell_type": "code",
   "execution_count": null,
   "id": "0347fc9b",
   "metadata": {},
   "outputs": [],
   "source": []
  },
  {
   "cell_type": "markdown",
   "id": "c0419ae4",
   "metadata": {},
   "source": [
    "### ISSUE #2"
   ]
  },
  {
   "cell_type": "code",
   "execution_count": 115,
   "id": "568d3ebb",
   "metadata": {},
   "outputs": [],
   "source": [
    "fnodes = nodes[nodes.id==\"Miller Group\"]"
   ]
  },
  {
   "cell_type": "code",
   "execution_count": 116,
   "id": "4028339a",
   "metadata": {},
   "outputs": [
    {
     "data": {
      "text/html": [
       "<div>\n",
       "<style scoped>\n",
       "    .dataframe tbody tr th:only-of-type {\n",
       "        vertical-align: middle;\n",
       "    }\n",
       "\n",
       "    .dataframe tbody tr th {\n",
       "        vertical-align: top;\n",
       "    }\n",
       "\n",
       "    .dataframe thead th {\n",
       "        text-align: right;\n",
       "    }\n",
       "</style>\n",
       "<table border=\"1\" class=\"dataframe\">\n",
       "  <thead>\n",
       "    <tr style=\"text-align: right;\">\n",
       "      <th></th>\n",
       "      <th>country</th>\n",
       "      <th>id</th>\n",
       "      <th>product_services</th>\n",
       "      <th>revenue_omu</th>\n",
       "      <th>type</th>\n",
       "    </tr>\n",
       "  </thead>\n",
       "  <tbody>\n",
       "    <tr>\n",
       "      <th>853</th>\n",
       "      <td>[ZH]</td>\n",
       "      <td>Miller Group</td>\n",
       "      <td>[Pool and spa parts distributor; Pool accessor...</td>\n",
       "      <td>[105666.6728]</td>\n",
       "      <td>[Company]</td>\n",
       "    </tr>\n",
       "    <tr>\n",
       "      <th>2103</th>\n",
       "      <td>[ZH]</td>\n",
       "      <td>Miller Group</td>\n",
       "      <td>[Staplers; ink pads; correction tapes; stamps;...</td>\n",
       "      <td>[27897.2705]</td>\n",
       "      <td>[Company]</td>\n",
       "    </tr>\n",
       "    <tr>\n",
       "      <th>9783</th>\n",
       "      <td>[ZH]</td>\n",
       "      <td>Miller Group</td>\n",
       "      <td>[]</td>\n",
       "      <td>NaN</td>\n",
       "      <td>[Beneficial Owner]</td>\n",
       "    </tr>\n",
       "    <tr>\n",
       "      <th>9970</th>\n",
       "      <td>[ZH]</td>\n",
       "      <td>Miller Group</td>\n",
       "      <td>[]</td>\n",
       "      <td>NaN</td>\n",
       "      <td>[Beneficial Owner]</td>\n",
       "    </tr>\n",
       "    <tr>\n",
       "      <th>12710</th>\n",
       "      <td>[ZH]</td>\n",
       "      <td>Miller Group</td>\n",
       "      <td>[]</td>\n",
       "      <td>NaN</td>\n",
       "      <td>[Beneficial Owner]</td>\n",
       "    </tr>\n",
       "    <tr>\n",
       "      <th>14462</th>\n",
       "      <td>[ZH]</td>\n",
       "      <td>Miller Group</td>\n",
       "      <td>[]</td>\n",
       "      <td>NaN</td>\n",
       "      <td>[Beneficial Owner]</td>\n",
       "    </tr>\n",
       "    <tr>\n",
       "      <th>15315</th>\n",
       "      <td>[ZH]</td>\n",
       "      <td>Miller Group</td>\n",
       "      <td>[]</td>\n",
       "      <td>NaN</td>\n",
       "      <td>[Beneficial Owner]</td>\n",
       "    </tr>\n",
       "    <tr>\n",
       "      <th>15371</th>\n",
       "      <td>[ZH]</td>\n",
       "      <td>Miller Group</td>\n",
       "      <td>[]</td>\n",
       "      <td>NaN</td>\n",
       "      <td>[Beneficial Owner]</td>\n",
       "    </tr>\n",
       "    <tr>\n",
       "      <th>16488</th>\n",
       "      <td>[ZH]</td>\n",
       "      <td>Miller Group</td>\n",
       "      <td>[]</td>\n",
       "      <td>NaN</td>\n",
       "      <td>[Beneficial Owner]</td>\n",
       "    </tr>\n",
       "    <tr>\n",
       "      <th>16727</th>\n",
       "      <td>[ZH]</td>\n",
       "      <td>Miller Group</td>\n",
       "      <td>[]</td>\n",
       "      <td>NaN</td>\n",
       "      <td>[Beneficial Owner]</td>\n",
       "    </tr>\n",
       "    <tr>\n",
       "      <th>19503</th>\n",
       "      <td>[ZH]</td>\n",
       "      <td>Miller Group</td>\n",
       "      <td>[]</td>\n",
       "      <td>NaN</td>\n",
       "      <td>[Beneficial Owner]</td>\n",
       "    </tr>\n",
       "    <tr>\n",
       "      <th>20367</th>\n",
       "      <td>[ZH]</td>\n",
       "      <td>Miller Group</td>\n",
       "      <td>[]</td>\n",
       "      <td>NaN</td>\n",
       "      <td>[Beneficial Owner]</td>\n",
       "    </tr>\n",
       "    <tr>\n",
       "      <th>21665</th>\n",
       "      <td>[ZH]</td>\n",
       "      <td>Miller Group</td>\n",
       "      <td>[]</td>\n",
       "      <td>NaN</td>\n",
       "      <td>[Company Contacts]</td>\n",
       "    </tr>\n",
       "    <tr>\n",
       "      <th>21839</th>\n",
       "      <td>[ZH]</td>\n",
       "      <td>Miller Group</td>\n",
       "      <td>[]</td>\n",
       "      <td>NaN</td>\n",
       "      <td>[Company Contacts]</td>\n",
       "    </tr>\n",
       "    <tr>\n",
       "      <th>23993</th>\n",
       "      <td>[ZH]</td>\n",
       "      <td>Miller Group</td>\n",
       "      <td>[]</td>\n",
       "      <td>NaN</td>\n",
       "      <td>[Company Contacts]</td>\n",
       "    </tr>\n",
       "    <tr>\n",
       "      <th>26460</th>\n",
       "      <td>[ZH]</td>\n",
       "      <td>Miller Group</td>\n",
       "      <td>[]</td>\n",
       "      <td>NaN</td>\n",
       "      <td>[Company Contacts]</td>\n",
       "    </tr>\n",
       "  </tbody>\n",
       "</table>\n",
       "</div>"
      ],
      "text/plain": [
       "      country            id  \\\n",
       "853      [ZH]  Miller Group   \n",
       "2103     [ZH]  Miller Group   \n",
       "9783     [ZH]  Miller Group   \n",
       "9970     [ZH]  Miller Group   \n",
       "12710    [ZH]  Miller Group   \n",
       "14462    [ZH]  Miller Group   \n",
       "15315    [ZH]  Miller Group   \n",
       "15371    [ZH]  Miller Group   \n",
       "16488    [ZH]  Miller Group   \n",
       "16727    [ZH]  Miller Group   \n",
       "19503    [ZH]  Miller Group   \n",
       "20367    [ZH]  Miller Group   \n",
       "21665    [ZH]  Miller Group   \n",
       "21839    [ZH]  Miller Group   \n",
       "23993    [ZH]  Miller Group   \n",
       "26460    [ZH]  Miller Group   \n",
       "\n",
       "                                        product_services    revenue_omu  \\\n",
       "853    [Pool and spa parts distributor; Pool accessor...  [105666.6728]   \n",
       "2103   [Staplers; ink pads; correction tapes; stamps;...   [27897.2705]   \n",
       "9783                                                  []            NaN   \n",
       "9970                                                  []            NaN   \n",
       "12710                                                 []            NaN   \n",
       "14462                                                 []            NaN   \n",
       "15315                                                 []            NaN   \n",
       "15371                                                 []            NaN   \n",
       "16488                                                 []            NaN   \n",
       "16727                                                 []            NaN   \n",
       "19503                                                 []            NaN   \n",
       "20367                                                 []            NaN   \n",
       "21665                                                 []            NaN   \n",
       "21839                                                 []            NaN   \n",
       "23993                                                 []            NaN   \n",
       "26460                                                 []            NaN   \n",
       "\n",
       "                     type  \n",
       "853             [Company]  \n",
       "2103            [Company]  \n",
       "9783   [Beneficial Owner]  \n",
       "9970   [Beneficial Owner]  \n",
       "12710  [Beneficial Owner]  \n",
       "14462  [Beneficial Owner]  \n",
       "15315  [Beneficial Owner]  \n",
       "15371  [Beneficial Owner]  \n",
       "16488  [Beneficial Owner]  \n",
       "16727  [Beneficial Owner]  \n",
       "19503  [Beneficial Owner]  \n",
       "20367  [Beneficial Owner]  \n",
       "21665  [Company Contacts]  \n",
       "21839  [Company Contacts]  \n",
       "23993  [Company Contacts]  \n",
       "26460  [Company Contacts]  "
      ]
     },
     "execution_count": 116,
     "metadata": {},
     "output_type": "execute_result"
    }
   ],
   "source": [
    "fnodes"
   ]
  },
  {
   "cell_type": "code",
   "execution_count": 113,
   "id": "f4910558",
   "metadata": {},
   "outputs": [],
   "source": [
    "fedges = edges[(edges.source==\"Miller Group\") | (edges.target==\"Miller Group\")]"
   ]
  },
  {
   "cell_type": "code",
   "execution_count": 125,
   "id": "0f142e1b",
   "metadata": {},
   "outputs": [
    {
     "data": {
      "text/html": [
       "<div>\n",
       "<style scoped>\n",
       "    .dataframe tbody tr th:only-of-type {\n",
       "        vertical-align: middle;\n",
       "    }\n",
       "\n",
       "    .dataframe tbody tr th {\n",
       "        vertical-align: top;\n",
       "    }\n",
       "\n",
       "    .dataframe thead th {\n",
       "        text-align: right;\n",
       "    }\n",
       "</style>\n",
       "<table border=\"1\" class=\"dataframe\">\n",
       "  <thead>\n",
       "    <tr style=\"text-align: right;\">\n",
       "      <th></th>\n",
       "      <th>source</th>\n",
       "      <th>target</th>\n",
       "      <th>type</th>\n",
       "    </tr>\n",
       "  </thead>\n",
       "  <tbody>\n",
       "    <tr>\n",
       "      <th>2539</th>\n",
       "      <td>Miller Group</td>\n",
       "      <td>Steven Austin</td>\n",
       "      <td>[Company Contacts]</td>\n",
       "    </tr>\n",
       "    <tr>\n",
       "      <th>6217</th>\n",
       "      <td>Miller Group</td>\n",
       "      <td>Melanie Williamson</td>\n",
       "      <td>[Beneficial Owner]</td>\n",
       "    </tr>\n",
       "    <tr>\n",
       "      <th>8976</th>\n",
       "      <td>Miller Group</td>\n",
       "      <td>Laura Williams</td>\n",
       "      <td>[Beneficial Owner]</td>\n",
       "    </tr>\n",
       "    <tr>\n",
       "      <th>16966</th>\n",
       "      <td>Miller Group</td>\n",
       "      <td>Jason Welch</td>\n",
       "      <td>[Beneficial Owner]</td>\n",
       "    </tr>\n",
       "    <tr>\n",
       "      <th>20529</th>\n",
       "      <td>Miller Group</td>\n",
       "      <td>Kaitlyn Hurst</td>\n",
       "      <td>[Beneficial Owner]</td>\n",
       "    </tr>\n",
       "    <tr>\n",
       "      <th>22111</th>\n",
       "      <td>Miller Group</td>\n",
       "      <td>Louis Harmon</td>\n",
       "      <td>[Company Contacts]</td>\n",
       "    </tr>\n",
       "  </tbody>\n",
       "</table>\n",
       "</div>"
      ],
      "text/plain": [
       "             source              target                type\n",
       "2539   Miller Group       Steven Austin  [Company Contacts]\n",
       "6217   Miller Group  Melanie Williamson  [Beneficial Owner]\n",
       "8976   Miller Group      Laura Williams  [Beneficial Owner]\n",
       "16966  Miller Group         Jason Welch  [Beneficial Owner]\n",
       "20529  Miller Group       Kaitlyn Hurst  [Beneficial Owner]\n",
       "22111  Miller Group        Louis Harmon  [Company Contacts]"
      ]
     },
     "execution_count": 125,
     "metadata": {},
     "output_type": "execute_result"
    }
   ],
   "source": [
    "fedges"
   ]
  },
  {
   "cell_type": "code",
   "execution_count": 148,
   "id": "f19d9162",
   "metadata": {},
   "outputs": [],
   "source": [
    "G = nx.MultiGraph()\n",
    "\n",
    "for i, node in enumerate(fnodes.values):\n",
    "    node_id = node[1]\n",
    "    G.add_node(node_id, serial=i, revenue=node[3], type1=node[4])\n",
    "\n",
    "for edge in fedges.values:\n",
    "    source = edge[0]\n",
    "    target = edge[1]\n",
    "    G.add_edge(source,target)"
   ]
  },
  {
   "cell_type": "code",
   "execution_count": 149,
   "id": "4d2c756e",
   "metadata": {},
   "outputs": [],
   "source": [
    "%matplotlib inline"
   ]
  },
  {
   "cell_type": "code",
   "execution_count": 150,
   "id": "e0961d94",
   "metadata": {},
   "outputs": [
    {
     "data": {
      "text/plain": [
       "(6, 7)"
      ]
     },
     "execution_count": 150,
     "metadata": {},
     "output_type": "execute_result"
    }
   ],
   "source": [
    "G.number_of_edges(), G.number_of_nodes()"
   ]
  },
  {
   "cell_type": "code",
   "execution_count": 151,
   "id": "634f8e38",
   "metadata": {},
   "outputs": [
    {
     "data": {
      "image/png": "[encoded data removed]",
      "text/plain": [
       "<Figure size 432x288 with 1 Axes>"
      ]
     },
     "metadata": {},
     "output_type": "display_data"
    }
   ],
   "source": [
    "nx.draw(G)"
   ]
  },
  {
   "cell_type": "code",
   "execution_count": 152,
   "id": "2be02739",
   "metadata": {},
   "outputs": [
    {
     "data": {
      "text/plain": [
       "NodeDataView({'Miller Group': {'serial': 15, 'revenue': nan, 'type1': ['Company Contacts']}, 'Steven Austin': {}, 'Melanie Williamson': {}, 'Laura Williams': {}, 'Jason Welch': {}, 'Kaitlyn Hurst': {}, 'Louis Harmon': {}})"
      ]
     },
     "execution_count": 152,
     "metadata": {},
     "output_type": "execute_result"
    }
   ],
   "source": [
    "G.nodes.data()"
   ]
  },
  {
   "cell_type": "code",
   "execution_count": null,
   "id": "0ae44492",
   "metadata": {},
   "outputs": [],
   "source": []
  },
  {
   "cell_type": "code",
   "execution_count": null,
   "id": "2e1bda44",
   "metadata": {},
   "outputs": [],
   "source": []
  }
 ],
 "metadata": {
  "kernelspec": {
   "display_name": "Python 3 (ipykernel)",
   "language": "python",
   "name": "python3"
  },
  "language_info": {
   "codemirror_mode": {
    "name": "ipython",
    "version": 3
   },
   "file_extension": ".py",
   "mimetype": "text/x-python",
   "name": "python",
   "nbconvert_exporter": "python",
   "pygments_lexer": "ipython3",
   "version": "3.9.12"
  }
 },
 "nbformat": 4,
 "nbformat_minor": 5
}
